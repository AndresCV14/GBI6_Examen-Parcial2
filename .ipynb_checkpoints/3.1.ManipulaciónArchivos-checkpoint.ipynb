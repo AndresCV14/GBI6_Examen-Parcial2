{
 "cells": [
  {
   "cell_type": "markdown",
   "metadata": {},
   "source": [
    "<img src=\"https://www.ikiam.edu.ec/img/logo-ikiam-grey.png\" width=400 height=300 />\n",
    "\n",
    "# MANIPULACIÓN DE ARCHIVOS"
   ]
  },
  {
   "cell_type": "markdown",
   "metadata": {},
   "source": [
    "Los datos con los que trabajamos en ciencias de la vida se almacenan en archivos, por lo que si vamos a escribir programas útiles, necesitamos una forma de extraer los datos de los archivos y llevarlos a nuestros programas (y viceversa). Por ejemplo si empezamos a manipular secuencias de ADN (extensas), no es es posible copiar y pegar en el script la secuencia cada vez que deseamos manipular. En su lugar podemos abrir los archivos de la secuencia o secuencias completas con facilidad. \n",
    "\n",
    "Los datos biológicos en sus diferentes formatos son en general guardados como `archivos de texto`, que son relativamente simples de procesar con Python. Entre los principales tendremos secuencias de `ADN` y `proteínas`, que se pueden almacenar en una variedad de formatos. Pero además, en Python se puede leer otros datos como : lecturas de secuenciación, puntuaciones de calidad, SNP, árboles filogenéticos, mapas de lectura, datos de muestras geográficas, matrices de distancia genética, imágenes de microscopía, videos o audios. \n",
    "\n",
    "| Formato archivo | Extensión | Secuencias|\n",
    "| --- | ---|--- | \n",
    "| FASTA | .fa, .fasta .fsa| DNA y proteína, dos líneas: |\n",
    "| FASTAQ | .fastq, .sanfastq, .fq| Lectura de secuencias de DNA Sanger format, cuatro líneas|\n",
    "| SAM | .sam| Mapa de alineamiento de secuencias|\n",
    "| BAM | .sam| Mapa de alineamiento de secuencias binario|\n",
    "| VCF | .vcf| Variant Calling Format|\n",
    "| GFF | .gff2, .gff3, .gff| Gene Finding Format|\n",
    "| GTF | .gtf| Gene Transfer Format|\n",
    "| MOV | .mov| Live cell video|\n",
    "\n",
    "[File Formats Tutorial](https://bioinformatics.uconn.edu/resources-and-events/tutorials-2/file-formats-tutorial/#)\n",
    "\n",
    "\n",
    "Otra razón importante de utilizar `archivos como entrada y salida` de los procesos en Bioinformática es la necesidad de que los programas a escribir en Python funcionen como un flujo de trabajo `PIPELINE`. \n",
    "\n",
    "<img src=\"https://oup.silverchair-cdn.com/oup/backfile/Content_public/Journal/gigascience/6/8/10.1093_gigascience_gix057/3/m_gix057fig1.jpeg?Expires=1629611735&Signature=YmlzI53p1tK0hfXMOPaFcHGtFcgo8MIHSOVpiV0GxXvFJ42EWFdGnfrMth1IGGabcI99mFcCRTftI0SxxFqBMosKzOo8pS~zzeOUD3IKDU~PLyU9w5Abz8GYRFJwUKqMbK3cqNGy2EtOilDqCASiv8UWn19QZglTsCfGqA5rWawM54mQ3vIkcnhTlZ~E~ectz4rjcTRZWAZs2uSLe7SXcvmh7SkcVjLPs-rsM027Q30rpTPX8eKFLzlmX24q3UF-NIbrOe1KGHQWCpCeq3vOUamjygJDcPRf190ug7qtoTPGk6RVp5xUkTHGcgYxTulVfPBmfPUr33kr1A66kBkVqg__&Key-Pair-Id=APKAIE5G5CRDK6RD3PGA\" width=600 height=800 />\n",
    "\n",
    "[Transcriptome analysis of the response of Burmese python to digestion (USING PYTHON)](https://doi.org/10.1093/gigascience/gix057)\n",
    "\n",
    "<img src=\"https://media.springernature.com/lw685/springer-static/image/art%3A10.1186%2F1471-2105-14-201/MediaObjects/12859_2013_Article_5962_Fig2_HTML.jpg?as=webp\" width=600 height=300 />\n",
    "\n",
    "[Bioinformatic pipelines in Python with Leaf](https://doi.org/10.1186/1471-2105-14-201)\n",
    "\n",
    "\n",
    "Usualmente lo que se busca es que Python acepte o proporcione datos de otro programa. Usualmente, la forma más fácil es hacer que Python lea o escriba archivos en un formato que el otro programa ya comprenda. En programación, cuando se habla de archivos de texto, no necesariamente es legible por humanos. Más bien, estamos hablando de un archivo que contiene caracteres y líneas, algo que puede abrir y ver en un editor de texto, independientemente de si realmente el usuario puede darle sentido al archivo (FASTA, FASTQ, HTML, XML, JSON, WORD, TXT, CSV). Tambien se tiene otros formatos de tipo binario (JPG, TIFF, PNG, MOV, HDF5, AUDIO). \n"
   ]
  },
  {
   "cell_type": "markdown",
   "metadata": {},
   "source": [
    "\n",
    "## Lectura de archivos\n",
    "\n",
    "En Python, como en cualquier otro programa (inclusive en el mundo físico), tenemos que abrir un archivo antes de poder leer su contenido. La función de Python que realiza el trabajo de abrir un archivo se llama `open()`. Esta función toma dos argumento que toma dos argumentos: \n",
    "\n",
    "1. Texto que indica el nombre del archivo, o ruta cualquiera. \n",
    "2. el tipo de apertura. Luego devuelve un objeto de archivo. Los tipos de apertura son:\n",
    "    * `r` de **r**ead, si no se coloca este argumento, es el tipo por defecto\n",
    "    * `w` de **w**rite \n",
    "    * `a` de **a**ppend \n",
    "    * `r+` para leer y escribir al mismo tiempo\n",
    "\n",
    "Finalmente se devueleve el objeto del archivo. \n",
    "\n",
    "```python \n",
    "file = open(\"filename.ext\", \"r\")\n",
    "```\n",
    "\n",
    "Se abre / crea el archivo `filename.txt` en modo de lectura y se guarda en la variable `file`."
   ]
  },
  {
   "cell_type": "code",
   "execution_count": null,
   "metadata": {},
   "outputs": [],
   "source": [
    "f1 = open(\"dnafile.txt\", \"w\")\n",
    "f1\n",
    "f1.name #indica el archivo asignado a la variable\n",
    "f1.mode # indica el tipo de apertura\n",
    "f.encoding # indica como es la interpretación que Python da a la información del archivo, por ejemplo UTF.8"
   ]
  },
  {
   "cell_type": "code",
   "execution_count": null,
   "metadata": {},
   "outputs": [],
   "source": [
    "f2 = open(\"dnafile.csv\", 'r') # para leer el archivo tiene que existir"
   ]
  },
  {
   "cell_type": "code",
   "execution_count": null,
   "metadata": {},
   "outputs": [],
   "source": [
    "f2 = open(\"dnafile.csv\", 'w')\n",
    "f2"
   ]
  },
  {
   "cell_type": "markdown",
   "metadata": {},
   "source": [
    "Un archivo tiene el ciclo de `abrir - leer - modificar - cerrar`, por ejemplo:\n",
    "\n",
    "```python \n",
    "s1 = open(\"seqA.fas\", \"r+\")\n",
    "# modificaciones en s1 \n",
    "s1.read()\n",
    "s1.close()\n",
    "\n",
    "```\n",
    "La alternativa para asegurarse que se cierra el documento sin colocarlo explicitamente es utilizando `with`: \n",
    "```python \n",
    "with open(\"seqA.fas\", \"r+\") as s1:\n",
    "    # modificaciones\n",
    "    s1.read()\n",
    "\n",
    "# en esta línea empieza otra instrucción, se ha cerrado s1\n",
    "\n",
    "```\n",
    "\n",
    "\n",
    "En la apertura para leer, se tiene los siguientes métodos de lectura: \n",
    "\n",
    "* **read(n)**, lee la cantidad de bytes que contiene el archivo (tamaño del documento).\n",
    "* **read()**, lee todo el documento, problema de memoria con archivos muy grandes.\n",
    "* **readline()**, retorna una sola línea del documento y agrega la terminación de línea `\\n`.\n",
    "* **readlines()**, retorna cada una de las líneas del texto indicando el índice de línea. \n"
   ]
  },
  {
   "cell_type": "code",
   "execution_count": 84,
   "metadata": {},
   "outputs": [],
   "source": [
    "# Creamos un archivo vacío\n",
    "#s1 = open(\"seqA.fas\", \"r\")\n",
    "#s1.close() # cerramos para editar\n"
   ]
  },
  {
   "cell_type": "code",
   "execution_count": 85,
   "metadata": {},
   "outputs": [
    {
     "name": "stdout",
     "output_type": "stream",
     "text": [
      ">O00626|HUMAN Small inducible cytokine A22\n",
      "MARLQTALLVVLVLLAVALQATEAGPYGANMEDSVCCRDYVRYRLPLRVVKHFYWTSDS<=\n",
      "CPRPGVVLLTFRDKEICADPR\n",
      "VPWVKMILNKLSQ\n"
     ]
    }
   ],
   "source": [
    "s1 = open(\"seqA.fas\", \"r\")\n",
    "print(s1.read())\n",
    "s1.close()"
   ]
  },
  {
   "cell_type": "code",
   "execution_count": 86,
   "metadata": {},
   "outputs": [
    {
     "name": "stdout",
     "output_type": "stream",
     "text": [
      ">O00626|HUMAN Small inducible cytokine A22\n",
      "MARLQTALLVVLVLLAVALQATEAGPYGANMEDSVCCRDYVRYRLPLRVVKHFYWTSDS<=\n",
      "CPRPGVVLLTFRDKEICADPR\n",
      "VPWVKMILNKLSQ\n"
     ]
    },
    {
     "data": {
      "text/plain": [
       "5"
      ]
     },
     "execution_count": 86,
     "metadata": {},
     "output_type": "execute_result"
    }
   ],
   "source": [
    "with open(\"seqA.fas\", \"r\") as s1:\n",
    "    print(s1.read())\n",
    "\n",
    "#otra istrucción\n",
    "2+3"
   ]
  },
  {
   "cell_type": "code",
   "execution_count": 87,
   "metadata": {},
   "outputs": [
    {
     "name": "stdout",
     "output_type": "stream",
     "text": [
      "El nombre de la secuencia es: O00626|HUMAN Small inducible cytokine A22\n",
      "La secuencia es: MARLQTALLVVLVLLAVALQATEAGPYGANMEDSVCCRDYVRYRLPLRVVKHFYWTSDS<=CPRPGVVLLTFRDKEICADPRVPWVKMILNKLSQ\n"
     ]
    }
   ],
   "source": [
    "with open(\"seqA.fas\") as fh:\n",
    "    s1 = fh.read()\n",
    "name = s1.split(\"\\n\")[0][1:]\n",
    "sequence = \"\".join(s1.split(\"\\n\")[1:])\n",
    "print(\"El nombre de la secuencia es: {0}\".format(name))\n",
    "print(\"La secuencia es: {0}\".format(sequence))"
   ]
  },
  {
   "cell_type": "code",
   "execution_count": 89,
   "metadata": {},
   "outputs": [
    {
     "name": "stdout",
     "output_type": "stream",
     "text": [
      "El nombre de la secuencia es: O00626|HUMAN Small inducible cytokine A22\n",
      "La secuencia es: MARLQTALLVVLVLLAVALQATEAGPYGANMEDSVCCRDYVRYRLPLRVVKHFYWTSDS<=CPRPGVVLLTFRDKEICADPRVPWVKMILNKLSQ\n"
     ]
    }
   ],
   "source": [
    "# mejor alternativa para la memoria, utilizando readlines()\n",
    "\n",
    "sequence = \"\"\n",
    "with open(\"seqA.fas\") as s1:\n",
    "    name = s1.readline()[1:-1]\n",
    "    for line in s1:\n",
    "        sequence += line.replace(\"\\n\",\"\")\n",
    "print(\"El nombre de la secuencia es: {0}\".format(name))\n",
    "print(\"La secuencia es: {0}\".format(sequence))\n"
   ]
  },
  {
   "cell_type": "code",
   "execution_count": 93,
   "metadata": {},
   "outputs": [
    {
     "data": {
      "text/plain": [
       "<_io.TextIOWrapper name='prot.fas' mode='w' encoding='cp1252'>"
      ]
     },
     "execution_count": 93,
     "metadata": {},
     "output_type": "execute_result"
    }
   ],
   "source": [
    "# Vamos a procesar la información de un archivo\n",
    "# crear archivo\n",
    "#open(\"prot.fas\", 'w') # ejecutar una sola vez"
   ]
  },
  {
   "cell_type": "code",
   "execution_count": 94,
   "metadata": {},
   "outputs": [
    {
     "name": "stdout",
     "output_type": "stream",
     "text": [
      "3.046999999999999\n"
     ]
    }
   ],
   "source": [
    "sequence = ''\n",
    "charge = -0.002\n",
    "aa_charge = {'C':-.045, 'D':-.999, 'E':-.998, 'H':.091,\n",
    "'K':1, 'R':1, 'Y':-.001}\n",
    "with open('prot.fas') as fh:\n",
    "    fh.readline()\n",
    "    for line in fh:\n",
    "        sequence += line[:-1].upper()\n",
    "for aa in sequence:\n",
    "    charge += aa_charge.get(aa,0)\n",
    "print(charge)"
   ]
  },
  {
   "cell_type": "code",
   "execution_count": 6,
   "metadata": {},
   "outputs": [
    {
     "name": "stdout",
     "output_type": "stream",
     "text": [
      "['>XP_021504584.1 cyclic AMP-responsive element-binding protein 3-like protein 3 isoform X3 [Meriones unguiculatus]\\n']\n"
     ]
    }
   ],
   "source": [
    "f3 = open(\"sequence.fasta\", \"r\")\n",
    "\n",
    "print(f3.readlines(10))\n",
    "\n",
    "f3.close()"
   ]
  },
  {
   "cell_type": "markdown",
   "metadata": {},
   "source": [
    "## Escritura de archivos\n",
    "\n",
    "Para escribir en un archivo se debe tener variables con informacion. Tenemos tres secuencias de ADN en total, por lo que necesitaremos tres variables para contener los encabezados de secuencia y tres más para contener las secuencias en sí mismas:"
   ]
  },
  {
   "cell_type": "code",
   "execution_count": 11,
   "metadata": {},
   "outputs": [
    {
     "name": "stdout",
     "output_type": "stream",
     "text": [
      ">ABC123 \n",
      " ATCGTACGATCGATCGATCGCTAGACGTATCG \n",
      "\n",
      ">DEF456 \n",
      " actgatcgacgatcgatcgatcacgact \n",
      "\n",
      ">HIJ789 \n",
      " ACTGACACTGTACTGTACATGTG \n",
      "\n"
     ]
    }
   ],
   "source": [
    "header_1 = \"ABC123\"\n",
    "header_2 = \"DEF456\"\n",
    "header_3 = \"HIJ789\"\n",
    "seq_1 = \"ATCGTACGATCGATCGATCGCTAGACGTATCG\"\n",
    "seq_2 = \"actgatcgacgatcgatcgatcacgact\"\n",
    "seq_3 = \"ACTGAC-ACTGT--ACTGTA----CATGTG\"\n",
    "# escribimos las instrucciones en un formato .fasta\n",
    "print('>{0} \\n {1} \\n'.format(header_1, seq_1))\n",
    "print('>{0} \\n {1} \\n'.format(header_2, seq_2))\n",
    "print('>{0} \\n {1} \\n'.format(header_3, seq_3.replace('-', '')))"
   ]
  },
  {
   "cell_type": "code",
   "execution_count": 36,
   "metadata": {},
   "outputs": [
    {
     "data": {
      "text/plain": [
       "32"
      ]
     },
     "execution_count": 36,
     "metadata": {},
     "output_type": "execute_result"
    }
   ],
   "source": [
    "# encabezados de las secuencias\n",
    "header_1 = \"ABC123\"\n",
    "header_2 = \"DEF456\"\n",
    "header_3 = \"HIJ789\"\n",
    "# secuencias\n",
    "seq_1 = \"ATCGTACGATCGATCGATCGCTAGACGTATCG\"\n",
    "seq_2 = \"actgatcgacgatcgatcgatcacgact\"\n",
    "seq_3 = \"ACTGAC-ACTGT—ACTGTA----CATGTG\"\n",
    "\n",
    "# Elaborar mensajes de salida\n",
    "out1 = \">\" + header_1 + \"\\n\" + seq_1\n",
    "out2 = \">\" + header_2 + \"\\n\" + seq_2\n",
    "out3 = \">\" + header_3 + \"\\n\" + seq_3.replace('-', '')\n",
    "\n",
    "# Imprimir mensajes al archivo\n",
    "output = open(\"seqs_test.fasta\", \"w\")\n",
    "output.write(out1) \n",
    "output.write(out2) \n",
    "output.write(out3) \n"
   ]
  },
  {
   "cell_type": "code",
   "execution_count": 39,
   "metadata": {},
   "outputs": [
    {
     "data": {
      "text/plain": [
       "32"
      ]
     },
     "execution_count": 39,
     "metadata": {},
     "output_type": "execute_result"
    }
   ],
   "source": [
    "# Escribir archivos individuales\n",
    "\n",
    "# encabezados de las secuencias\n",
    "header_1 = \"ABC123\"\n",
    "header_2 = \"DEF456\"\n",
    "header_3 = \"HIJ789\"\n",
    "# secuencias\n",
    "seq_1 = \"ATCGTACGATCGATCGATCGCTAGACGTATCG\"\n",
    "seq_2 = \"actgatcgacgatcgatcgatcacgact\"\n",
    "seq_3 = \"ACTGAC-ACTGT—ACTGTA----CATGTG\"\n",
    "\n",
    "# Elaborar mensajes de salida\n",
    "out1 = \">\" + header_1 + \"\\n\" + seq_1\n",
    "out2 = \">\" + header_2 + \"\\n\" + seq_2\n",
    "out3 = \">\" + header_3 + \"\\n\" + seq_3.replace('-', '')\n",
    "\n",
    "# Imprimir mensajes al archivo\n",
    "file1 = open(\"seqs1.fasta\", \"w\")\n",
    "file2 = open(\"seqs2.fasta\", \"w\")\n",
    "file3 = open(\"seqs3.fasta\", \"w\")\n",
    "file1.write(out1) \n",
    "file2.write(out2) \n",
    "file3.write(out3) "
   ]
  },
  {
   "cell_type": "code",
   "execution_count": 34,
   "metadata": {},
   "outputs": [],
   "source": [
    "# Imprimir procesamiento más extenso\n",
    "secuencia = \"\"\n",
    "carga = -0.002\n",
    "aa_carga = {\"C\":-.045, \"D\":-.999, \"E\":-.998, \n",
    "             \"H\":.091,\"K\":1, \"R\":1, \"Y\":-.001}\n",
    "with open(\"prot.fas\") as fh:\n",
    "    next(fh)\n",
    "    for line in fh:\n",
    "        secuencia += line[:-1].upper()\n",
    "    for aa in secuencia:\n",
    "        carga += aa_carga.get(aa, 0)\n",
    "with open(\"carga_prot.txt\",\"w\") as file_out:\n",
    "    file_out.write(\"secuencia:\\n\" + secuencia + \n",
    "                   \"\\n\\ncarga:\"+str(carga))"
   ]
  },
  {
   "cell_type": "markdown",
   "metadata": {},
   "source": [
    "## Archivos delimitados por caracteres\n",
    "\n",
    "La instalación básica de Python incluye una serie de \"módulos\" que proporcionan funciones para contextos específicos. Uno de estos módulos es útil para manipular archivos de texto delimitados por caracteres que contienen valores organizados en filas y columnas, como en una **hoja de cálculo**. Estos archivos de texto `tabulares` tienen dos características especiales: \n",
    "\n",
    "1. cada línea es una fila de valores, separados por un delimitador; \n",
    "\n",
    "2. cada fila tiene un número de elementos llamados archivos de \"valores separados por comas `(,)`\" o .csv, aunque el separador puede ser diferente a la coma ."
   ]
  },
  {
   "cell_type": "code",
   "execution_count": 40,
   "metadata": {},
   "outputs": [
    {
     "name": "stdout",
     "output_type": "stream",
     "text": [
      "biweek,year,loc,cases,pop\n",
      "1,1906,BALTIMORE,NA,526822.1365\n",
      "2,1906,BALTIMORE,NA,526995.246\n",
      "3,1906,BALTIMORE,NA,527170.1981\n"
     ]
    }
   ],
   "source": [
    "with open(\"Dalziel2016_data.csv\") as f:\n",
    "    # create iterator\n",
    "    for i, line in enumerate(f):\n",
    "        # print each line; delete leading/trailing spaces\n",
    "        print(line.strip())\n",
    "        if i > 2:\n",
    "            break"
   ]
  },
  {
   "cell_type": "markdown",
   "metadata": {},
   "source": [
    "Usando `csv.DictReader(f)` para leer el archivo, cada fila se convierte en un diccionario, con claves creadas automáticamente desde el encabezado.\n"
   ]
  },
  {
   "cell_type": "code",
   "execution_count": 41,
   "metadata": {},
   "outputs": [
    {
     "name": "stdout",
     "output_type": "stream",
     "text": [
      "{'biweek': '1', 'year': '1906', 'loc': 'BALTIMORE', 'cases': 'NA', 'pop': '526822.1365'}\n",
      "{'biweek': '2', 'year': '1906', 'loc': 'BALTIMORE', 'cases': 'NA', 'pop': '526995.246'}\n",
      "{'biweek': '3', 'year': '1906', 'loc': 'BALTIMORE', 'cases': 'NA', 'pop': '527170.1981'}\n",
      "{'biweek': '4', 'year': '1906', 'loc': 'BALTIMORE', 'cases': 'NA', 'pop': '527347.0136'}\n"
     ]
    }
   ],
   "source": [
    "import csv\n",
    "with open(\"Dalziel2016_data.csv\") as f:\n",
    "    reader = csv.DictReader(f)\n",
    "    for i, row in enumerate(reader):\n",
    "        # print as dictionary\n",
    "        print(dict(row))\n",
    "        if i > 2:\n",
    "            break"
   ]
  },
  {
   "cell_type": "markdown",
   "metadata": {},
   "source": [
    "Con este cambio se puede realizar operaciones usando el `archivo`, por ejemplo, seleccionando todas las entradas para la ubicación `Washington` y escribiéndolas en un nuevo archivo usando `csv.DictWriter`"
   ]
  },
  {
   "cell_type": "code",
   "execution_count": 44,
   "metadata": {},
   "outputs": [],
   "source": [
    "with open(\"Dalziel2016_data.csv\") as fr:\n",
    "    reader = csv.DictReader(fr)\n",
    "    header = reader.fieldnames # extract the header\n",
    "    with open(\"Dalziel2016_Washington.csv\", \"w\") as fw:\n",
    "        writer = csv.DictWriter(fw, fieldnames = header,\n",
    "                                delimiter = \",\")\n",
    "        for row in reader:\n",
    "            if row[\"loc\"] == \"WASHINGTON\":\n",
    "                writer.writerow(row)"
   ]
  },
  {
   "cell_type": "code",
   "execution_count": 43,
   "metadata": {},
   "outputs": [
    {
     "name": "stdout",
     "output_type": "stream",
     "text": [
      "Help on class DictWriter in module csv:\n",
      "\n",
      "class DictWriter(builtins.object)\n",
      " |  DictWriter(f, fieldnames, restval='', extrasaction='raise', dialect='excel', *args, **kwds)\n",
      " |  \n",
      " |  Methods defined here:\n",
      " |  \n",
      " |  __init__(self, f, fieldnames, restval='', extrasaction='raise', dialect='excel', *args, **kwds)\n",
      " |      Initialize self.  See help(type(self)) for accurate signature.\n",
      " |  \n",
      " |  writeheader(self)\n",
      " |  \n",
      " |  writerow(self, rowdict)\n",
      " |  \n",
      " |  writerows(self, rowdicts)\n",
      " |  \n",
      " |  ----------------------------------------------------------------------\n",
      " |  Data descriptors defined here:\n",
      " |  \n",
      " |  __dict__\n",
      " |      dictionary for instance variables (if defined)\n",
      " |  \n",
      " |  __weakref__\n",
      " |      list of weak references to the object (if defined)\n",
      "\n"
     ]
    }
   ],
   "source": [
    "help(csv.DictWriter)"
   ]
  },
  {
   "cell_type": "code",
   "execution_count": 46,
   "metadata": {},
   "outputs": [
    {
     "name": "stdout",
     "output_type": "stream",
     "text": [
      "238.25\n"
     ]
    }
   ],
   "source": [
    "# lectura de csv \n",
    "total_len = 0\n",
    "with open(\"B1.csv\") as fh:\n",
    "    next(fh)\n",
    "    for n, line in enumerate(fh):\n",
    "        data = line.split(\",\") # separa los contenidos utilizando un delimitador\n",
    "        total_len += int(data[1])\n",
    "print(total_len/n)"
   ]
  },
  {
   "cell_type": "code",
   "execution_count": 47,
   "metadata": {},
   "outputs": [
    {
     "name": "stdout",
     "output_type": "stream",
     "text": [
      "238.25\n"
     ]
    }
   ],
   "source": [
    "# Lectura utilizando enumerate\n",
    "import csv\n",
    "total_len=0\n",
    "lines = csv.reader(open(\"B1.csv\"))\n",
    "next(lines)\n",
    "for n, line in enumerate(lines):\n",
    "    total_len += int(line[1])\n",
    "\n",
    "print(total_len / n)"
   ]
  },
  {
   "cell_type": "markdown",
   "metadata": {},
   "source": [
    "## Leer archivos excel\n",
    "\n",
    "El módulo csv le permite leer archivos de Excel, siempre que el archivo se convierta primero a csv. Este paso se puede evitar con un módulo de terceros llamado `xlrd`. Este módulo se puede instalar con `pip` o `conda`. \n",
    "\n",
    "```python\n",
    "# instalando módulo con pip \n",
    "pip install xlrd\n",
    "\n",
    "# instalando módulo con pip \n",
    "conda install xlrd\n",
    "```\n",
    "\n",
    "A continuación se lee archivo de Excel llamado `sampledata.xlsx`. Queremos hacer un diccionario (`iedb`) a partir de la columna A (claves) y la columna C (valores), por lo que este programa recorre ambas columnas y completa el diccionario:"
   ]
  },
  {
   "cell_type": "code",
   "execution_count": 48,
   "metadata": {},
   "outputs": [
    {
     "name": "stdout",
     "output_type": "stream",
     "text": [
      "{6273: 'CGAELNHFL', 14101: 'ERYLKDQQL', 22030: 'GRFKLIVLY', 25569: 'IDFPKTFGW', 26070: 'IFFPKTFGW', 26790: 'IKFPKTFGW', 27049: 'ILFPKTFGW', 27636: 'INFPKTFGW', 28419: 'IRYPKTFGW', 33140: 'KRGILTLKY', 33170: 'KRKKAYADF', 33260: 'KRYKSIVKY', 55565: 'RRFVNVVPTF', 55785: 'RRYQKSTEL', 58781: 'SKADVIAKY', 60636: 'SRDKTIIMW', 63789: 'TGASIQTTL', 144753: 'QRSPMFEGTL', 144784: 'SKFPKMRMG', 226822: 'AKFPGMKKSK', 504020: 'NQFNGGCLLV'}\n"
     ]
    }
   ],
   "source": [
    "import xlrd\n",
    "iedb = {}\n",
    "book = xlrd.open_workbook(\"sampledata.xlsx\")\n",
    "sh = book.sheet_by_index(0)\n",
    "for row_index in range(1, sh.nrows): #salto de linea 1.\n",
    "    iedb[int(sh.cell_value(rowx=row_index, colx=0))] = \\ # selecciona key col A\n",
    "    sh.cell_value(rowx=row_index, colx=2) # selecciona value col C\n",
    "print(iedb)"
   ]
  },
  {
   "cell_type": "markdown",
   "metadata": {},
   "source": [
    "### Escribir archivos excel\n",
    "\n",
    "Para escribir archivos de Excel, puede usar `xlwt`, que funciona de manera similar a `xlrd`. A continuación se escribe una `lista1` y una `lista2` en las columnas A y B usando `xlwt`."
   ]
  },
  {
   "cell_type": "code",
   "execution_count": 58,
   "metadata": {},
   "outputs": [],
   "source": [
    "import xlwt\n",
    "lista1 = [1,2,3,4,5]\n",
    "lista2 = [234,267,281,301,331]\n",
    "wb = xlwt.Workbook()\n",
    "ws = wb.add_sheet(\"Notas\") # nombre de libro\n",
    "ws.write(0,0,\"Gen\")\n",
    "ws.write(0,1,\"Copias\")\n",
    "i = 1\n",
    "for x,y in zip(lista1, lista2): # itera sobre las dos listas\n",
    "    ws.write(i,0,x) # fila, columna, data.\n",
    "    ws.write(i,1,y)\n",
    "    i += 1\n",
    "wb.save(\"gen_write.xls\")"
   ]
  },
  {
   "cell_type": "code",
   "execution_count": 57,
   "metadata": {},
   "outputs": [
    {
     "name": "stdout",
     "output_type": "stream",
     "text": [
      "Help on method save in module xlwt.Workbook:\n",
      "\n",
      "save(filename_or_stream) method of xlwt.Workbook.Workbook instance\n",
      "    This method is used to save the Workbook to a file in native Excel\n",
      "    format.\n",
      "    \n",
      "    :param filename_or_stream:\n",
      "      This can be a string containing a filename of\n",
      "      the file, in which case the excel file is saved to disk using the name\n",
      "      provided. It can also be a stream object with a write method, such as\n",
      "      a :class:`~io.StringIO`, in which case the data for the excel\n",
      "      file is written to the stream.\n",
      "\n"
     ]
    }
   ],
   "source": [
    "help(wb.save)"
   ]
  },
  {
   "cell_type": "markdown",
   "metadata": {},
   "source": [
    "## MANEJO DE ARCHIVOS: MÓDULO OS, OS.PATH, SHUTIL Y PATH.PY\n",
    "\n",
    "Además de leer y escribir se puede realizar más manipulaciones a los archivos. Con los módulos `os`, `shutil` y `path.py` se pueden `copiar` ,`mover` , `eliminar`, `enumerar`, `cambiar de directorio` , establecer propiedades de archivo y otras cosas.\n",
    "\n",
    "El módulo `os` maneja una interfaz con el sistema operativo. Por ejemplo `getcwd ()`: devuelve una cadena que representa el directorio de trabajo actual."
   ]
  },
  {
   "cell_type": "code",
   "execution_count": 68,
   "metadata": {},
   "outputs": [
    {
     "name": "stdout",
     "output_type": "stream",
     "text": [
      "C:\\Users\\FUNCIONARIO\\Documents\\2021I_Ikiam\\2021-I\\GBI6\\python\n",
      "C:\\Users\\FUNCIONARIO\\Documents\\2021I_Ikiam\\2021-I\\GBI6\\python\\seqs\n",
      "C:\\Users\\FUNCIONARIO\\Documents\\2021I_Ikiam\\2021-I\\GBI6\\python\n"
     ]
    }
   ],
   "source": [
    "import os\n",
    "# imprimir directorio\n",
    "os.chdir(\"python\")\n",
    "print(os.getcwd())\n",
    "\n",
    "# cambiar de directorio\n",
    "os.chdir(\"seqs\")\n",
    "print(os.getcwd())\n",
    "\n",
    "# retornar a un directorio superior\n",
    "os.chdir(\"..\")\n",
    "print(os.getcwd())"
   ]
  },
  {
   "cell_type": "code",
   "execution_count": 69,
   "metadata": {},
   "outputs": [
    {
     "data": {
      "text/plain": [
       "['15721870.fasta',\n",
       " '218744616.fasta',\n",
       " '2623545.fasta',\n",
       " '4586830.fasta',\n",
       " '513419.fasta',\n",
       " '513710.fasta',\n",
       " '513717.fasta',\n",
       " '513718.fasta',\n",
       " '513719.fasta',\n",
       " '63108399.fasta',\n",
       " '6598312.fasta',\n",
       " '7415878.fasta',\n",
       " '7638455.fasta']"
      ]
     },
     "execution_count": 69,
     "metadata": {},
     "output_type": "execute_result"
    }
   ],
   "source": [
    "# enlistar contenido de un directorio \n",
    "os.listdir(\"seqs\")"
   ]
  },
  {
   "cell_type": "code",
   "execution_count": 76,
   "metadata": {},
   "outputs": [
    {
     "name": "stdout",
     "output_type": "stream",
     "text": [
      "C:\\Users\\FUNCIONARIO\\Documents\\2021I_Ikiam\\2021-I\\GBI6\\python\n",
      "False\n",
      "False\n",
      "False\n"
     ]
    }
   ],
   "source": [
    "# identificar si es archivo\n",
    "print(os.getcwd())\n",
    "print(os.path.isfile(\"seq\"))\n",
    "print(os.path.isdir(\"seq\"))\n",
    "print(os.path.isfile(\"seq/218744616.fasta\"))"
   ]
  },
  {
   "cell_type": "code",
   "execution_count": 81,
   "metadata": {},
   "outputs": [
    {
     "name": "stdout",
     "output_type": "stream",
     "text": [
      "[['.gitignore', '.ipynb_checkpoints', '2.3_IntroduccionPython.ipynb', '2.4_EstructurasControl.ipynb', '3.1.ManipulaciónArchivos.ipynb', 'B1.csv', 'carga_prot.txt', 'Dalziel2016_about.txt', 'Dalziel2016_data.csv', 'Dalziel2016_Washington.csv', 'dir_rename', 'dnafile.csv', 'dnafile.txt', 'fibo.py', 'gen_write.xls', 'mytextfile.txt', 'nombre.py', 'out.txt', 'PPTS_bioinfo', 'prot.fas', 'Py4Bio-master', 'README.md', 'sampledata.xlsx', 'seqA.fas', 'seqs', 'seqs1.fasta', 'seqs2.fasta', 'seqs3.fasta', 'seqs_test.fasta', 'sequence.fasta', 'sequences.fasta', 'Singh2015_about.txt', 'Singh2015_data.csv', 'test.py', 'test2.csv', 'test2.py', 'testfile.txt', '__pycache__']]\n"
     ]
    }
   ],
   "source": [
    "list = [os.listdir(\"../python\")]\n",
    "print(list)"
   ]
  },
  {
   "cell_type": "code",
   "execution_count": 83,
   "metadata": {},
   "outputs": [
    {
     "name": "stdout",
     "output_type": "stream",
     "text": [
      "[['.gitignore', '.ipynb_checkpoints', '2.3_IntroduccionPython.ipynb', '2.4_EstructurasControl.ipynb', '3.1.ManipulaciónArchivos.ipynb', 'B1.csv', 'carga_prot.txt', 'Dalziel2016_about.txt', 'Dalziel2016_data.csv', 'Dalziel2016_Washington.csv', 'dir_rename', 'dnafile.csv', 'dnafile.txt', 'fibo.py', 'gen_write.xls', 'mytextfile.txt', 'nombre.py', 'out.txt', 'PPTS_bioinfo', 'prot.fas', 'Py4Bio-master', 'README.md', 'sampledata.xlsx', 'seqA.fas', 'seqs', 'seqs1.fasta', 'seqs2.fasta', 'seqs3.fasta', 'seqs_test.fasta', 'sequence.fasta', 'sequences.fasta', 'Singh2015_about.txt', 'Singh2015_data.csv', 'test.py', 'test2.csv', 'test2.py', 'testfile.txt', 'test_dir', '__pycache__']]\n"
     ]
    }
   ],
   "source": [
    "# crear un directorio\n",
    "os.mkdir(\"../python/test_dir\")\n",
    "list = [os.listdir(\"../python\")]\n",
    "print(list)"
   ]
  },
  {
   "cell_type": "code",
   "execution_count": 91,
   "metadata": {},
   "outputs": [
    {
     "name": "stdout",
     "output_type": "stream",
     "text": [
      "[['.gitignore', '.ipynb_checkpoints', '2.3_IntroduccionPython.ipynb', '2.4_EstructurasControl.ipynb', '3.1.ManipulaciónArchivos.ipynb', 'B1.csv', 'carga_prot.txt', 'Dalziel2016_about.txt', 'Dalziel2016_data.csv', 'Dalziel2016_Washington.csv', 'dir_rename', 'dnafile.csv', 'fibo.py', 'gen_write.xls', 'mytextfile.txt', 'nombre.py', 'PPTS_bioinfo', 'prot.fas', 'Py4Bio-master', 'README.md', 'sampledata.xlsx', 'seqA.fas', 'seqs', 'seqs1.fasta', 'seqs2.fasta', 'seqs3.fasta', 'seqs_test.fasta', 'sequence.fasta', 'sequences.fasta', 'Singh2015_about.txt', 'Singh2015_data.csv', 'temp_dna.txt', 'test.py', 'test2.csv', 'test2.py', 'testfile.txt', 'test_dir', '__pycache__']]\n"
     ]
    }
   ],
   "source": [
    "# renombrar \n",
    "os.rename(\"dnafile.txt\", \"temp_dna.txt\")\n",
    "list = [os.listdir(\"../python\")]\n",
    "print(list)"
   ]
  },
  {
   "cell_type": "code",
   "execution_count": 88,
   "metadata": {},
   "outputs": [
    {
     "name": "stdout",
     "output_type": "stream",
     "text": [
      "[['.gitignore', '.ipynb_checkpoints', '2.3_IntroduccionPython.ipynb', '2.4_EstructurasControl.ipynb', '3.1.ManipulaciónArchivos.ipynb', 'B1.csv', 'carga_prot.txt', 'Dalziel2016_about.txt', 'Dalziel2016_data.csv', 'Dalziel2016_Washington.csv', 'dir_rename', 'dnafile.csv', 'dnafile.txt', 'fibo.py', 'gen_write.xls', 'mytextfile.txt', 'nombre.py', 'PPTS_bioinfo', 'prot.fas', 'Py4Bio-master', 'README.md', 'sampledata.xlsx', 'seqA.fas', 'seqs', 'seqs1.fasta', 'seqs2.fasta', 'seqs3.fasta', 'seqs_test.fasta', 'sequence.fasta', 'sequences.fasta', 'Singh2015_about.txt', 'Singh2015_data.csv', 'test.py', 'test2.csv', 'test2.py', 'testfile.txt', 'test_dir', '__pycache__']]\n"
     ]
    }
   ],
   "source": [
    "# remover \n",
    "os.remove(\"../python/out.txt\")\n",
    "list = [os.listdir(\"../python\")]\n",
    "print(list)"
   ]
  },
  {
   "cell_type": "code",
   "execution_count": 82,
   "metadata": {},
   "outputs": [],
   "source": [
    "#!pip install path.py\n",
    "import path"
   ]
  },
  {
   "cell_type": "code",
   "execution_count": 92,
   "metadata": {},
   "outputs": [
    {
     "data": {
      "text/plain": [
       "True"
      ]
     },
     "execution_count": 92,
     "metadata": {},
     "output_type": "execute_result"
    }
   ],
   "source": [
    "# crear archivos\n",
    "\n",
    "from path import Path\n",
    "f = Path(\"path_newfile.text\")\n",
    "f.touch()\n",
    "f.isfile()"
   ]
  },
  {
   "cell_type": "code",
   "execution_count": 101,
   "metadata": {},
   "outputs": [
    {
     "name": "stdout",
     "output_type": "stream",
     "text": [
      ".text\n",
      "path_newfile.text\n",
      "\n",
      "[Path('seqs\\\\15721870.fasta'), Path('seqs\\\\218744616.fasta'), Path('seqs\\\\2623545.fasta'), Path('seqs\\\\4586830.fasta'), Path('seqs\\\\513419.fasta'), Path('seqs\\\\513710.fasta'), Path('seqs\\\\513717.fasta'), Path('seqs\\\\513718.fasta'), Path('seqs\\\\513719.fasta'), Path('seqs\\\\63108399.fasta'), Path('seqs\\\\6598312.fasta'), Path('seqs\\\\7415878.fasta'), Path('seqs\\\\7638455.fasta')]\n",
      "[Path('../python\\\\.gitignore'), Path('../python\\\\2.3_IntroduccionPython.ipynb'), Path('../python\\\\2.4_EstructurasControl.ipynb'), Path('../python\\\\3.1.ManipulaciónArchivos.ipynb'), Path('../python\\\\B1.csv'), Path('../python\\\\carga_prot.txt'), Path('../python\\\\Dalziel2016_about.txt'), Path('../python\\\\Dalziel2016_data.csv'), Path('../python\\\\Dalziel2016_Washington.csv'), Path('../python\\\\dnafile.csv'), Path('../python\\\\fibo.py'), Path('../python\\\\gen_write.xls'), Path('../python\\\\mytextfile.txt'), Path('../python\\\\nombre.py'), Path('../python\\\\path_newfile.text'), Path('../python\\\\prot.fas'), Path('../python\\\\README.md'), Path('../python\\\\sampledata.xlsx'), Path('../python\\\\seqA.fas'), Path('../python\\\\seqs1.fasta'), Path('../python\\\\seqs2.fasta'), Path('../python\\\\seqs3.fasta'), Path('../python\\\\seqs_test.fasta'), Path('../python\\\\sequence.fasta'), Path('../python\\\\sequences.fasta'), Path('../python\\\\Singh2015_about.txt'), Path('../python\\\\Singh2015_data.csv'), Path('../python\\\\temp_dna.txt'), Path('../python\\\\test.py'), Path('../python\\\\test2.csv'), Path('../python\\\\test2.py'), Path('../python\\\\testfile.txt')]\n",
      "[Path('../python\\\\carga_prot.txt'), Path('../python\\\\Dalziel2016_about.txt'), Path('../python\\\\mytextfile.txt'), Path('../python\\\\Singh2015_about.txt'), Path('../python\\\\temp_dna.txt'), Path('../python\\\\testfile.txt')]\n"
     ]
    }
   ],
   "source": [
    "# tipo de archivo\n",
    "print(f.ext)\n",
    "\n",
    "#nombre de archivo\n",
    "print(f.name)\n",
    "\n",
    "#directorio parental de archivo\n",
    "print(f.parent)\n",
    "\n",
    "# definir path y revisar contenido\n",
    "d = Path(\"seqs\")\n",
    "print(d.files())\n",
    "\n",
    "# filtrado de contenidos\n",
    "d2 = Path(\"../python\")\n",
    "print(d2.files())\n",
    "print(d2.files(\"*.txt\"))\n"
   ]
  },
  {
   "cell_type": "code",
   "execution_count": 105,
   "metadata": {},
   "outputs": [
    {
     "name": "stdout",
     "output_type": "stream",
     "text": [
      "../python/seqs\\15721870.fasta\n",
      "../python/seqs\\218744616.fasta\n",
      "../python/seqs\\2623545.fasta\n",
      "../python/seqs\\4586830.fasta\n",
      "../python/seqs\\513419.fasta\n",
      "../python/seqs\\513710.fasta\n",
      "../python/seqs\\513717.fasta\n",
      "../python/seqs\\513718.fasta\n",
      "../python/seqs\\513719.fasta\n",
      "../python/seqs\\63108399.fasta\n",
      "../python/seqs\\6598312.fasta\n",
      "../python/seqs\\7415878.fasta\n",
      "../python/seqs\\7638455.fasta\n"
     ]
    }
   ],
   "source": [
    "# imprimir rutas de contenidos\n",
    "d3 = Path(\"../python/seqs\")\n",
    "for f in d3.walk():\n",
    "    if f.isfile():\n",
    "        print(f)"
   ]
  },
  {
   "cell_type": "markdown",
   "metadata": {},
   "source": [
    "# Leer múltiples archivos y consolidar\n",
    "\n",
    "En este ejemplo se consolidad secuencias de múltipes archivos .fasta en un solo archivo `.fasta`."
   ]
  },
  {
   "cell_type": "code",
   "execution_count": 107,
   "metadata": {},
   "outputs": [],
   "source": [
    "from path import Path\n",
    "d = Path(\"seqs\")\n",
    "with open(\"consolidated.fasta\", \"w\") as f_out:\n",
    "    for file_name in d.walk(\"*.fasta\"):\n",
    "        with open(file_name) as f_in:\n",
    "            data = f_in.read()\n",
    "            f_out.write(data)"
   ]
  },
  {
   "cell_type": "markdown",
   "metadata": {},
   "source": [
    "## Tarea\n",
    "Realice los ejercicios 3.8 (áginas 117 y 118) del libro: `2019_Allesina&Wilmes_ComputingSkills4Biologists-Toolbox.pdf`\n"
   ]
  },
  {
   "cell_type": "raw",
   "metadata": {},
   "source": []
  },
  {
   "cell_type": "markdown",
   "metadata": {},
   "source": []
  },
  {
   "cell_type": "code",
   "execution_count": null,
   "metadata": {},
   "outputs": [],
   "source": []
  },
  {
   "cell_type": "code",
   "execution_count": null,
   "metadata": {},
   "outputs": [],
   "source": []
  },
  {
   "cell_type": "code",
   "execution_count": null,
   "metadata": {},
   "outputs": [],
   "source": []
  },
  {
   "cell_type": "code",
   "execution_count": null,
   "metadata": {},
   "outputs": [],
   "source": []
  },
  {
   "cell_type": "code",
   "execution_count": null,
   "metadata": {},
   "outputs": [],
   "source": []
  }
 ],
 "metadata": {
  "kernelspec": {
   "display_name": "Python 3 (ipykernel)",
   "language": "python",
   "name": "python3"
  },
  "language_info": {
   "codemirror_mode": {
    "name": "ipython",
    "version": 3
   },
   "file_extension": ".py",
   "mimetype": "text/x-python",
   "name": "python",
   "nbconvert_exporter": "python",
   "pygments_lexer": "ipython3",
   "version": "3.9.7"
  },
  "latex_envs": {
   "LaTeX_envs_menu_present": true,
   "autoclose": false,
   "autocomplete": true,
   "bibliofile": "biblio.bib",
   "cite_by": "apalike",
   "current_citInitial": 1,
   "eqLabelWithNumbers": true,
   "eqNumInitial": 1,
   "hotkeys": {
    "equation": "Ctrl-E",
    "itemize": "Ctrl-I"
   },
   "labels_anchors": false,
   "latex_user_defs": false,
   "report_style_numbering": false,
   "user_envs_cfg": false
  },
  "toc": {
   "base_numbering": 1,
   "nav_menu": {},
   "number_sections": true,
   "sideBar": true,
   "skip_h1_title": false,
   "title_cell": "Table of Contents",
   "title_sidebar": "Contents",
   "toc_cell": false,
   "toc_position": {
    "height": "calc(100% - 180px)",
    "left": "10px",
    "top": "150px",
    "width": "217.58px"
   },
   "toc_section_display": true,
   "toc_window_display": false
  },
  "varInspector": {
   "cols": {
    "lenName": 16,
    "lenType": 16,
    "lenVar": 40
   },
   "kernels_config": {
    "python": {
     "delete_cmd_postfix": "",
     "delete_cmd_prefix": "del ",
     "library": "var_list.py",
     "varRefreshCmd": "print(var_dic_list())"
    },
    "r": {
     "delete_cmd_postfix": ") ",
     "delete_cmd_prefix": "rm(",
     "library": "var_list.r",
     "varRefreshCmd": "cat(var_dic_list()) "
    }
   },
   "types_to_exclude": [
    "module",
    "function",
    "builtin_function_or_method",
    "instance",
    "_Feature"
   ],
   "window_display": false
  }
 },
 "nbformat": 4,
 "nbformat_minor": 4
}

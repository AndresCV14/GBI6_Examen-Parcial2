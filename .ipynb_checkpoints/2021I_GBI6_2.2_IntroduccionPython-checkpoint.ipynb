{
 "cells": [
  {
   "cell_type": "markdown",
   "metadata": {},
   "source": [
    "### <center><h2> INGENIERÍA EN BIOTECNOLOGÍA</h2></center>\n",
    "# <center><h1 style=\"color:red\">GBI6 - BIOINFORMÁTICA</h1></center>\n",
    "\n",
    "\n",
    "<img src=\"https://www.ikiam.edu.ec/img/logo-ikiam-grey.png\" width=400 height=300 />\n",
    "\n",
    "# INTRODUCCIÓN A LA PROGRAMACIÓN EN PYTHON\n",
    "\n",
    "## ¿Por qué programar?\n",
    "\n",
    "Se tiene muchos programas disponibles que se pueden usar para hacer procesamiento directo. Sin embargo, casi ningún software dsiponible tiene todo lo requerido para realizar exactamente los análisis que se requiere en los proyectos de ciencias, en nuestro caso en `Bioinformática`. \n",
    "\n",
    "Saber programar permite escribir las instrucciones que son necesarios para solucionar algún requerimiento de procesamiento (**software propio**). Escribir un programa prpio también facilita la reproducibilidad, comprensión y extensión; especialmente si se compara con lo que se puede hacer con programas con interfaz gráfica, donde solo se hace clicks en formularios y ventanas para obtener el resultado deseado. Escribir el programa permite automatizar los procesos. \n",
    "\n",
    "Si el programa está acompañado de instrucciones adecuadas `ManPage`, `README`), entonces cualquiera y en cualquier lugar del mundo podrá reproducir sus hallazgos con exactitud, porque podrá organizar sus datos y código correctamente."
   ]
  },
  {
   "cell_type": "code",
   "execution_count": null,
   "metadata": {},
   "outputs": [],
   "source": []
  },
  {
   "cell_type": "markdown",
   "metadata": {},
   "source": [
    "## Elección del lenguaje de programación\n",
    "Actualmente hay cientos de lenguajes de programación disponibles. ¿Cuáles debería elegir un biólogo? "
   ]
  },
  {
   "cell_type": "code",
   "execution_count": 3,
   "metadata": {},
   "outputs": [
    {
     "ename": "ImportError",
     "evalue": "cannot import name 'YouTube' from 'IPython.display' (C:\\Users\\FUNCIONARIO\\anaconda3\\lib\\site-packages\\IPython\\display.py)",
     "output_type": "error",
     "traceback": [
      "\u001b[1;31m---------------------------------------------------------------------------\u001b[0m",
      "\u001b[1;31mImportError\u001b[0m                               Traceback (most recent call last)",
      "\u001b[1;32m<ipython-input-3-1459b8a28dad>\u001b[0m in \u001b[0;36m<module>\u001b[1;34m\u001b[0m\n\u001b[1;32m----> 1\u001b[1;33m \u001b[1;32mfrom\u001b[0m \u001b[0mIPython\u001b[0m\u001b[1;33m.\u001b[0m\u001b[0mdisplay\u001b[0m \u001b[1;32mimport\u001b[0m \u001b[0mYouTube\u001b[0m\u001b[1;33m\u001b[0m\u001b[1;33m\u001b[0m\u001b[0m\n\u001b[0m\u001b[0;32m      2\u001b[0m \u001b[0mYouTube\u001b[0m\u001b[1;33m(\u001b[0m\u001b[1;34m'<iframe width=\"960\" height=\"480\" src=\"https://www.youtube.com/embed/_-t36JplahQ?rel=0&amp;controls=0&amp;showinfo=0\" frameborder=\"0\" allowfullscreen></iframe>'\u001b[0m\u001b[1;33m)\u001b[0m\u001b[1;33m\u001b[0m\u001b[1;33m\u001b[0m\u001b[0m\n",
      "\u001b[1;31mImportError\u001b[0m: cannot import name 'YouTube' from 'IPython.display' (C:\\Users\\FUNCIONARIO\\anaconda3\\lib\\site-packages\\IPython\\display.py)"
     ]
    }
   ],
   "source": [
    "from IPython.display import YouTube\n",
    "YouTube('<iframe width=\"960\" height=\"480\" src=\"https://www.youtube.com/embed/_-t36JplahQ?rel=0&amp;controls=0&amp;showinfo=0\" frameborder=\"0\" allowfullscreen></iframe>')"
   ]
  },
  {
   "cell_type": "markdown",
   "metadata": {},
   "source": [
    "Al igual que en idiomas, conocer más de un idioma trae grandes ventajas. Asimismo, en Bioinformática se debe buscar la pluralidad de lenguajes; porque cada lenguaje de programación se ha desarrollado teniendo en cuenta una audiencia determinada y problemas particulares, lo que da como resultado ciertas fortalezas y debilidades.\n",
    "\n",
    "<img src=\"https://itsvenu.github.io/post/bioinformatics-biostars/Biostars_perYear_languageQuestions.png\" width=800 height=600 />\n",
    "\n",
    "Algunos autores sugieren que Python y R hacen una excelente combinación: \n",
    "\n",
    "<img src=\"https://2.bp.blogspot.com/-h7og3j6JSRc/WYZVo5FqvzI/AAAAAAAAFJE/-21__pSTiL4p5nDVof7ClzVkvSgjo_b7ACLcBGAs/s1600/indeed%2Btrends.png\" width=600 height=450 />\n",
    "<img src=\"https://rstudio.github.io/reticulate/images/reticulated_python.png\" width=300 height=250 />\n",
    "\n",
    "\n",
    "Adquirir un conocimiento básico de varios lenguajes permite identificar y elegir el que es más apropiado para una tarea. No es necesario aprender todos los lenguajes de programación y lograr un dominio bajo en todos, tampoco es recomendable utilizar un solo lenguaje de programación para cada una de las tareas, porque cada lenguaje tiene sus fortalezas y debilidades.\n",
    "\n",
    "- Costanza P. *et al*. 2019: <a href=\"https://doi.org/10.1186/s12859-019-2903-5\">A comparison of three programming languages for a full-fledged next-generation sequencing tool</a>\n",
    "\n",
    "## Lenguajes de programación\n",
    "\n",
    "<img src=\"https://www.mycplus.com/mycplus/wp-content/uploads/2009/02/programming-languages.jpg\" width=800 height=550 />\n",
    "\n",
    "Tres combinanciones de carcaterísticas se requieren de los lenguajes de programación: \n",
    "\n",
    "- Lenguaje moderno y fácil de escribir para la manipulación de datos, creación de prototipos y tareas de programación que no implican varios millones de operaciones (**Python**, Perl y Ruby). En el caso de Python busca la legibilidad, flexibilidad y popularidad; a costa de la velocidad de ejecución. \n",
    "\n",
    "- Lenguaje para operaciones estadísticas / matemáticas que permitan programar (**R**, Mathematica, MATLAB, Julia). \n",
    "\n",
    "- Un lenguaje para trabajo pesado (millones o miles de millones de operaciones, como simulaciones). Estos lenguajes se basan en un compilador (traduce el código fuente en un programa binario ejecutable). Suelen ser muy rápidas (**C**, FORTRAN, Go, Java Swift, C++). "
   ]
  },
  {
   "cell_type": "markdown",
   "metadata": {},
   "source": [
    "# Introducción a Python\n",
    "\n",
    "## ¿Qué es Python?\n",
    "\n",
    "* Creado en 1991 por Guido Van Rossum.\n",
    "* Lenguaje de programación de propósito general, multiparadigma (programación imperativa, orientada a objectos, funcional).\n",
    "* Lenguaje de programación interpretado, con tipado dinámico y fuertemente tipado.\n",
    "* [_Batteries Included_](https://docs.python.org/3/tutorial/stdlib.html#batteries-included): tiene una gran cantidad de módulos disponibles en la librería estándar.\n",
    "* Hace énfasis en facilitar la legibilidad y transparencia del código.\n",
    "\n",
    "```python\n",
    ">>> import this\n",
    "The Zen of Python, by Tim Peters\n",
    "\n",
    "Beautiful is better than ugly.\n",
    "Explicit is better than implicit.\n",
    "Simple is better than complex.\n",
    "Complex is better than complicated.\n",
    "Flat is better than nested.\n",
    "Sparse is better than dense.\n",
    "Readability counts.\n",
    "Special cases aren't special enough to break the rules.\n",
    "Although practicality beats purity.\n",
    "Errors should never pass silently.\n",
    "Unless explicitly silenced.\n",
    "In the face of ambiguity, refuse the temptation to guess.\n",
    "There should be one-- and preferably only one --obvious way to do it.\n",
    "Although that way may not be obvious at first unless you're Dutch.\n",
    "Now is better than never.\n",
    "Although never is often better than *right* now.\n",
    "If the implementation is hard to explain, it's a bad idea.\n",
    "If the implementation is easy to explain, it may be a good idea.\n",
    "Namespaces are one honking great idea -- let's do more of those!\n",
    "```\n",
    "\n",
    "## Versiones de Python\n",
    "\n",
    "Hay dos versiones estables de Python, incompatibles entre si: Python 2 (Python 2.7 es la actual versión) y Python 3. La mayor diferencia para un principiante es que en Python 3 `print` pasa a ser una functión y no una sentencia.\n",
    "\n",
    "* Python 2\n",
    "```python\n",
    ">>> print \"Hola GBI6!\"\n",
    "Hola GBI6!\n",
    "```\n",
    "\n",
    "* Python 3\n",
    "```python\n",
    ">>> print \"Hola GBI6!\"\n",
    "  File \"<stdin>\", line 1\n",
    "    print \"Hola GBI6!\"\n",
    "                       ^\n",
    "SyntaxError: Missing parentheses in call to 'print'. Did you mean print(\"Hola GBI6!\")?\n",
    ">>> print(\"Hola GBI6!\")\n",
    "Hola GBI6!\n",
    "```\n",
    "\n",
    "## El intérprete de Python\n",
    "\n",
    "Cuando se ejecuta en modo interactivo, el interprete evalua las entradas que se le introducen a través de un prompt (`>>>`):\n",
    "\n",
    "```python\n",
    "$ python3\n",
    "Python 3.8.5 (default, Sep  3 2020, 21:29:08) [MSC v.1916 64 bit (AMD64)] :: Anaconda, Inc. on win32\n",
    "Type \"help\", \"copyright\", \"credits\" or \"license\" for more information.\n",
    "\n",
    ">>> 1 + 2\n",
    "3\n",
    ">>> a = 1\n",
    ">>> a + 2\n",
    "3\n",
    ">>> b = a + 2\n",
    ">>> b\n",
    "3\n",
    ">>> \n",
    "```\n",
    "\n",
    "Para ejecutar un programa desde la consola:\n",
    "\n",
    "```bash\n",
    "$ python3 hello_world.py\n",
    "Hola GBI6!\n",
    "```\n",
    "\n",
    "En el caso de los _Notebooks_ de Jupyter, el código se agrupa en celdas, que se pueden ejecutar independientemente (ojo a la ejecución fuera de orden). Al ejecutar una celda esta nos devolvera el resultado de la evaluación de la última sentencia ejecutada."
   ]
  },
  {
   "cell_type": "markdown",
   "metadata": {},
   "source": [
    "---\n",
    "\n",
    "## Un primer programa en Python"
   ]
  },
  {
   "cell_type": "code",
   "execution_count": 3,
   "metadata": {},
   "outputs": [
    {
     "name": "stdout",
     "output_type": "stream",
     "text": [
      "aqui estamos\n"
     ]
    }
   ],
   "source": [
    "# Esto es un comentario\n",
    "x = 3\n",
    "y = 5\n",
    "z = t + 3*x - y\n",
    "# Impresión de texto\n",
    "print(\"aqui estamos\")\n",
    "\n",
    "\n",
    "\n",
    "\n",
    "# Operaciones elementales \n",
    "\n",
    "\n",
    "\n",
    "\n",
    "\n",
    "# Guardar tablas \n",
    "\n",
    "\n",
    "\n",
    "\n",
    "# Modelamiento de expresión de gen X\n"
   ]
  },
  {
   "cell_type": "markdown",
   "metadata": {},
   "source": [
    "---\n",
    "\n",
    "## Sintaxis\n",
    "\n",
    "* Sintaxis sencilla, parecida al inglés.\n",
    "* Énfasis en facilitar la lectura del código.\n",
    "* Todas las líneas terminan on un salto de línea (no hace falta `;`).\n",
    "  * Para continuar una línea se utiliza `\\`.\n",
    "* Los comentarios comienzan por un `#`.\n",
    "\n",
    "\n",
    "* Un programa en Python se compone de _módulos_.\n",
    "* Los módulos están compuestos por _sentencias_.\n",
    "  * Las sentencias, en algunos casos, se deben agrupar por bloques.\n",
    "* Las sentencias contienen _expresiones_.\n",
    "  * Crean objetos.\n",
    "  * Procesan objetos.\n",
    "* Los espacios en blanco en Python son muy importantes.\n",
    "  * `El indentado delimita bloques de código` (funciones, bucles, condicionales, contextos, etc.)\n",
    "  * Normalmente se utilizan 4 espacios en lugar de tabuladores.\n",
    "  * Importante no mezclar espacios y tabuladores!!\n",
    "  * Código en C\n",
    "```c\n",
    "void foo(int x) {\n",
    "        if (x == 0) {\n",
    "            bar();\n",
    "            baz();\n",
    "        } else {\n",
    "            qux(x);\n",
    "            foo(x - 1);\n",
    "        }\n",
    "}\n",
    "```\n",
    "  * Equivalente en Python (correcto)\n",
    "```python\n",
    "    def foo(x):\n",
    "        if x == 0:\n",
    "            bar()\n",
    "            baz()\n",
    "        else:\n",
    "            qux(x)\n",
    "            foo(x - 1)\n",
    "```\n",
    "  * Código erróneo en Python\n",
    "```python\n",
    "    def foo(x):\n",
    "        if x == 0:\n",
    "            bar()\n",
    "            baz()\n",
    "        else:\n",
    "            qux(x)\n",
    "        foo(x - 1)\n",
    "```\n",
    "  * Código erróneo en Python (fallo de sintaxis)\n",
    "  ```python\n",
    "    def foo(x):\n",
    "        if x == 0:\n",
    "            bar()\n",
    "            baz()\n",
    "        else:\n",
    "            qux(x)\n",
    "           foo(x - 1)\n",
    "```"
   ]
  },
  {
   "cell_type": "markdown",
   "metadata": {},
   "source": [
    "**Ejemplo (ejecutar la siguiente celda con Ctrl + Enter)**"
   ]
  },
  {
   "cell_type": "code",
   "execution_count": 4,
   "metadata": {},
   "outputs": [
    {
     "name": "stdout",
     "output_type": "stream",
     "text": [
      "Si se suman los valores a y b, \n",
      "el resultado es 18\n"
     ]
    }
   ],
   "source": [
    "a = 2\n",
    "b = 4 ** 2\n",
    "mensaje = \"Si se suman los valores a y b, \"\n",
    "\n",
    "# Esto es un comentario\n",
    "if b >= 10 or a == 1:\n",
    "    c = a + b\n",
    "    print(mensaje)\n",
    "else:\n",
    "    c = b - a\n",
    "\n",
    "print(\"el resultado es\", c)"
   ]
  },
  {
   "cell_type": "markdown",
   "metadata": {},
   "source": [
    "# Cálculos básicos\n",
    "\n",
    "Se puede utilizar Python como una calculadora, donde tenemos los operadores: \n",
    "\n",
    "- **Aritmética**, *de Baldor*\n",
    "\n",
    "`+` Suma\n",
    "\n",
    "`-` Diferencia\n",
    "\n",
    "`*` Multiplicación\n",
    "\n",
    "`/` División\n",
    "\n",
    "`**`Exponenciación\n",
    "\n",
    "`//` Division entera\n",
    "\n",
    "`%` Modulo (restante de la division entera)\n",
    "\n",
    "`sqrt` Raíz cuadrada\n",
    "\n",
    "- **Comparación**\n",
    "\n",
    "`==` Igual igual\n",
    "\n",
    "`!=` Diferente o no igual \n",
    "\n",
    "`>` Mayor que \n",
    "\n",
    "`>=` Mayor o igual que \n",
    "\n",
    "`<` Menor que \n",
    "\n",
    "`<=` Menor o igual que \n",
    "\n",
    "- **Lógica**\n",
    "\n",
    "`&` \"y\" AND\n",
    "\n",
    "`|` \"o\" OR\n",
    "\n",
    "`!` \"no\" NOT"
   ]
  },
  {
   "cell_type": "code",
   "execution_count": 5,
   "metadata": {},
   "outputs": [
    {
     "name": "stdout",
     "output_type": "stream",
     "text": [
      "a+b= 16\n",
      "a-b= 6\n",
      "a*b= 55\n",
      "a^b= 161051\n",
      "log(a)= 1.041392685158225\n"
     ]
    }
   ],
   "source": [
    "# Aritmética\n",
    "a = 11\n",
    "b = 5\n",
    "\n",
    "print(\"a+b=\", a+b)\n",
    "print(\"a-b=\", a-b)\n",
    "print(\"a*b=\", a*b)\n",
    "\n",
    "print(\"a^b=\", a**b)\n",
    "\n",
    "\n",
    "import math as mt\n",
    "import numpy as np\n",
    "import pandas as pd\n",
    "import matplotlib.pyplot as plt\n",
    "import seaborn as sns\n",
    "\n",
    "print(\"log(a)=\", mt.log(a, 10))\n",
    "\n"
   ]
  },
  {
   "cell_type": "code",
   "execution_count": 6,
   "metadata": {},
   "outputs": [
    {
     "name": "stdout",
     "output_type": "stream",
     "text": [
      "True\n",
      "False\n",
      "True\n",
      "False\n",
      "False\n",
      "True\n",
      "False\n"
     ]
    }
   ],
   "source": [
    "# Comparación, el resultado es un booleano: VERDAD  o FALSO \n",
    "print (a > b)\n",
    "print (a < b)\n",
    "print (a >= b)\n",
    "print (a <= b)\n",
    "print (a == b)\n",
    "print (a != b)\n",
    "\n",
    "c = 1\n",
    "print (a == c)\n",
    "\n"
   ]
  },
  {
   "cell_type": "code",
   "execution_count": 7,
   "metadata": {},
   "outputs": [
    {
     "name": "stdout",
     "output_type": "stream",
     "text": [
      "True\n"
     ]
    }
   ],
   "source": [
    "# Lógica\n",
    "print((a > b) & (c < b) | (c==b))"
   ]
  },
  {
   "cell_type": "markdown",
   "metadata": {},
   "source": [
    "Para hacer operaciones complejas se debe utilizar agrupadores `()`. \n",
    "\n",
    "- $a*b**4 = a \\cdot b^4$\n",
    "\n",
    "- $a*(b**4) = a \\cdot (b^4)$\n",
    "\n",
    "- $(a*b)**4 = (a \\cdot b)^4$\n",
    "\n",
    "- $a+b/4 = a + \\frac{b}{4}$\n",
    "\n",
    "- $(a+b)/4 = \\frac{a+b}{4}$\n",
    "\n",
    "- $sqrt(a +1 )-1 = \\sqrt{a+1}-1$"
   ]
  },
  {
   "cell_type": "code",
   "execution_count": 8,
   "metadata": {},
   "outputs": [],
   "source": [
    "# Aritmética compuesta\n"
   ]
  },
  {
   "cell_type": "markdown",
   "metadata": {},
   "source": [
    "---\n",
    "\n",
    "\n",
    "# Variables y tipos de datos básicos\n",
    "\n",
    "## Variables\n",
    "\n",
    "* Todo en Python es un objeto (numeros, funciones, cadenas de caracteres, clases, objetos, modulos, paquetes, etc.).\n",
    "* Las variables se asignan con el operador `=`, sean del tipo que sean.\n",
    "* Se puede asignar cualquier objeto a una variable.\n",
    "* Tipado dinámico, fuertemente tipado."
   ]
  },
  {
   "cell_type": "code",
   "execution_count": 9,
   "metadata": {},
   "outputs": [
    {
     "name": "stdout",
     "output_type": "stream",
     "text": [
      "hemoglobina\n"
     ]
    }
   ],
   "source": [
    "# Asignación \n",
    "gen1 = \"hemoglobina\"\n",
    "# Despliegue\n",
    "print(gen1)"
   ]
  },
  {
   "cell_type": "code",
   "execution_count": 10,
   "metadata": {
    "scrolled": true
   },
   "outputs": [
    {
     "name": "stdout",
     "output_type": "stream",
     "text": [
      "<class 'str'>\n",
      "<class 'int'>\n",
      "1\n"
     ]
    },
    {
     "data": {
      "text/plain": [
       "3.5"
      ]
     },
     "execution_count": 10,
     "metadata": {},
     "output_type": "execute_result"
    }
   ],
   "source": [
    "a = \"1\"\n",
    "#a = 1  # Tipado dinámico\n",
    "print(type(a))\n",
    "\n",
    "b = \"2.5\"\n",
    "\n",
    "a = int(a) \n",
    "print(type(a))\n",
    "b = float(b)  # Fuertemente tipado\n",
    "print(a)\n",
    "a + b"
   ]
  },
  {
   "cell_type": "markdown",
   "metadata": {},
   "source": [
    "* Una variable **tiene que existir** para poder referenciarla."
   ]
  },
  {
   "cell_type": "code",
   "execution_count": 11,
   "metadata": {},
   "outputs": [],
   "source": [
    "z = \"\"  # 'z' no está definida, obtendremos un error"
   ]
  },
  {
   "cell_type": "markdown",
   "metadata": {},
   "source": [
    "* Los nombres de variables comienzan por un caracter alfabético siempre."
   ]
  },
  {
   "cell_type": "code",
   "execution_count": 12,
   "metadata": {},
   "outputs": [
    {
     "ename": "SyntaxError",
     "evalue": "invalid syntax (<ipython-input-12-a3f5a1ab37af>, line 1)",
     "output_type": "error",
     "traceback": [
      "\u001b[1;36m  File \u001b[1;32m\"<ipython-input-12-a3f5a1ab37af>\"\u001b[1;36m, line \u001b[1;32m1\u001b[0m\n\u001b[1;33m    5cosas = \"hola\"  # Las variables no pueden comenzar por un número\u001b[0m\n\u001b[1;37m     ^\u001b[0m\n\u001b[1;31mSyntaxError\u001b[0m\u001b[1;31m:\u001b[0m invalid syntax\n"
     ]
    }
   ],
   "source": [
    "5cosas = \"hola\"  # Las variables no pueden comenzar por un número"
   ]
  },
  {
   "cell_type": "markdown",
   "metadata": {},
   "source": [
    "## Números\n",
    "\n",
    "* Dos tipos numéricos básicos.\n",
    "  * enteros, con tipo `int`.\n",
    "  * flotante, con tipo `float`.\n",
    "  * complejo, con tipo `complex`."
   ]
  },
  {
   "cell_type": "code",
   "execution_count": null,
   "metadata": {},
   "outputs": [],
   "source": [
    "a = 1+3\n",
    "b = 7\n",
    "c = 13\n",
    "d = a + b**2 + (c / a)\n",
    "c + d\n",
    "\n",
    "import cmath\n",
    "e = complex(3, 2)\n",
    "f = b + e\n",
    "\n",
    "print(e)\n",
    "print(f)\n",
    "type(f)"
   ]
  },
  {
   "cell_type": "code",
   "execution_count": null,
   "metadata": {},
   "outputs": [],
   "source": [
    "13 / 3  # La división siempre devuelve un flotante"
   ]
  },
  {
   "cell_type": "code",
   "execution_count": null,
   "metadata": {},
   "outputs": [],
   "source": [
    "13 // 3  # Floor division (redondea al entero más próximo)"
   ]
  },
  {
   "cell_type": "code",
   "execution_count": null,
   "metadata": {},
   "outputs": [],
   "source": [
    "13 % 3  # Resto"
   ]
  },
  {
   "cell_type": "markdown",
   "metadata": {},
   "source": [
    "Revisar todas las variables guardadas en la memoria"
   ]
  },
  {
   "cell_type": "code",
   "execution_count": null,
   "metadata": {},
   "outputs": [],
   "source": [
    "who"
   ]
  },
  {
   "cell_type": "markdown",
   "metadata": {},
   "source": [
    "## Cadenas de caracteres\n",
    "\n",
    "* Python puede manipular cadenas de caracteres, las cadenas se pueden definir:\n",
    "  * Entre comillas dobles (`\"...\")`.\n",
    "  * Entre comillas simples (`'...'`).\n",
    "  * Entre tres comillas dobles (`\"\"\"...\"\"\"`) o tres comillas simples (`'''...'''`) para ocupar varias líneas.\n",
    "  * Para escapar un tipo de comilla dentro de comillas del mismo tipo se utiliza `\\`.\n",
    "  * Dos cadenas adyacentes, separadas por un espacio, son automáticamente añadidas.\n",
    "  * Las cadenas de caracteres se pueden sumar (concatenación)\n",
    "  * Se puede comprobar si una cadena está contenida en otra cadena con el operador \"in\""
   ]
  },
  {
   "cell_type": "code",
   "execution_count": null,
   "metadata": {},
   "outputs": [],
   "source": [
    "neuron1 = \"Las células del sistema nervioso, las \\\"neuronas\\\" son numerosas.\"\n",
    "\n",
    "neuron2 = 'Las células del sistema nervioso, las \"neuronas\" son numerosas.'\n",
    "\n",
    "neuron3 = \"Las células del sistema nervioso, las 'neuronas' son numerosas.\"\n",
    "\n",
    "neuron4 = \"\"\"\\nLas células del sistema nervioso, \n",
    "\"neuronas\" son numerosas.\n",
    "Forman el sistema nervioso.\\n \n",
    "Otra línea\n",
    "\"\"\"\n",
    "\n",
    "print(neuron1)\n",
    "print(neuron2)\n",
    "print(neuron3)\n",
    "print(\"\\n\" + neuron2 + neuron3)\n",
    "print(neuron4)\n"
   ]
  },
  {
   "cell_type": "code",
   "execution_count": null,
   "metadata": {},
   "outputs": [],
   "source": [
    "print(\"Esto son\", \"varios textos separados que se van \" \"a juntar al final\")"
   ]
  },
  {
   "cell_type": "code",
   "execution_count": null,
   "metadata": {},
   "outputs": [],
   "source": [
    "print(\"puede parecer no demasiado útil\\n\"\n",
    "      \"pero es util para romper una cadena\\n\"\n",
    "      \"\\n\\nen varias líneas. \\n\")"
   ]
  },
  {
   "cell_type": "code",
   "execution_count": null,
   "metadata": {},
   "outputs": [],
   "source": [
    "cadena5 = neuron1 + \" \" + neuron2\n",
    "print(cadena5)"
   ]
  },
  {
   "cell_type": "code",
   "execution_count": null,
   "metadata": {},
   "outputs": [],
   "source": [
    "\"sistema\" in neuron3"
   ]
  },
  {
   "cell_type": "code",
   "execution_count": null,
   "metadata": {},
   "outputs": [],
   "source": [
    "\"neuronas\" in neuron3"
   ]
  },
  {
   "cell_type": "markdown",
   "metadata": {},
   "source": [
    "# <center><h1 style=\"background-color:lightblue\"><font color='red'>EJERCICIO</font></h1></center>\n",
    "\n",
    "1. Crear un archivo **texto.py** que imprima el siguiente texto:\n",
    "\n",
    "<span style=\"background-color:lightgreen\">Al finalizar dijo: \"Estaremos calculando el área' de las células\".</span>\n",
    "\n",
    "2. Subir el archivo **texto.py** al GitHub, utilizando la linea de comandos. "
   ]
  },
  {
   "cell_type": "code",
   "execution_count": null,
   "metadata": {},
   "outputs": [],
   "source": [
    "from jupyterthemes import jtplot\n",
    "jtplot.style(theme='onedork')\n",
    "jtplot.style(context='talk', fscale=1.4, spines=False, gridlines='--')\n",
    "# Escribe aquí tu código\n",
    "\n",
    "\n",
    "\n"
   ]
  },
  {
   "cell_type": "markdown",
   "metadata": {},
   "source": [
    "## Funciones precargadas"
   ]
  },
  {
   "cell_type": "code",
   "execution_count": null,
   "metadata": {},
   "outputs": [],
   "source": [
    "# valor absoluto\n",
    "\n",
    "# Potencia\n",
    "\n",
    "# Imprimir \n",
    "\n",
    "# redondear\n",
    "\n",
    "# Ayuda, detalles de funciones, objetos\n"
   ]
  },
  {
   "cell_type": "code",
   "execution_count": null,
   "metadata": {},
   "outputs": [],
   "source": [
    "# Longitud de un texto (número de caracteres)\n",
    "celula = \"Unidad anatómica fundamental de todos los organismos vivos\"\n",
    "len(celula)\n"
   ]
  },
  {
   "cell_type": "markdown",
   "metadata": {},
   "source": [
    "### Funciones precargadas para textos"
   ]
  },
  {
   "cell_type": "markdown",
   "metadata": {},
   "source": [
    "Revisar funciones aplicables al dato"
   ]
  },
  {
   "cell_type": "code",
   "execution_count": null,
   "metadata": {},
   "outputs": [],
   "source": [
    "seq_corta = 'ATCGCGGA'\n"
   ]
  },
  {
   "cell_type": "code",
   "execution_count": null,
   "metadata": {},
   "outputs": [],
   "source": [
    "seq_corta."
   ]
  },
  {
   "cell_type": "code",
   "execution_count": null,
   "metadata": {},
   "outputs": [],
   "source": [
    "help(seq_corta.)"
   ]
  },
  {
   "cell_type": "code",
   "execution_count": null,
   "metadata": {},
   "outputs": [],
   "source": [
    "# reemplazar characters\n",
    "seq_corta.replace(\"T\", \"U\")\n"
   ]
  },
  {
   "cell_type": "code",
   "execution_count": null,
   "metadata": {},
   "outputs": [],
   "source": [
    "# índice (posición) de la primera ocureencia\n",
    "seq_corta.find(\"T\")\n",
    "\n"
   ]
  },
  {
   "cell_type": "code",
   "execution_count": null,
   "metadata": {},
   "outputs": [],
   "source": [
    "# contar ocurrencias\n",
    "seq_corta.count(\"G\")\n"
   ]
  },
  {
   "cell_type": "code",
   "execution_count": null,
   "metadata": {},
   "outputs": [],
   "source": [
    "especie = \" Mus musculus \"\n",
    "# separar texto con separador predefinido\n",
    "especie.split()\n",
    "\n"
   ]
  },
  {
   "cell_type": "code",
   "execution_count": null,
   "metadata": {},
   "outputs": [],
   "source": [
    "# escpecicando el separador  \n",
    "especie.split(\"s\")\n",
    "\n"
   ]
  },
  {
   "cell_type": "code",
   "execution_count": null,
   "metadata": {},
   "outputs": [],
   "source": [
    "# remueve espacios adicionales al inicio y al final del texto\n",
    "especie.strip()\n"
   ]
  },
  {
   "cell_type": "code",
   "execution_count": null,
   "metadata": {},
   "outputs": [],
   "source": [
    "# convertir a mayúsculas\n",
    "seq2 = \"atcgatgatcgatca\"\n",
    "seq2.upper()"
   ]
  },
  {
   "cell_type": "code",
   "execution_count": null,
   "metadata": {},
   "outputs": [],
   "source": [
    "# convertir a mayúsculas\n",
    "seq2 = \"ATatGCTAGCGACCCa\"\n",
    "seq2.lower()"
   ]
  },
  {
   "cell_type": "markdown",
   "metadata": {},
   "source": [
    "Concatenar textos"
   ]
  },
  {
   "cell_type": "code",
   "execution_count": null,
   "metadata": {},
   "outputs": [],
   "source": [
    "genero = \"Zea\"\n",
    "especie = \"mays\"\n",
    "# concatenar \n",
    "concat1 = genero + especie\n",
    "\n",
    "# Concatenar con separador\n",
    "concat2 = genero + \" \" + especie\n",
    "concat3 = genero + \", \" + especie\n",
    "\n",
    "print(concat1)\n",
    "print(concat2)\n",
    "print(concat3)"
   ]
  },
  {
   "cell_type": "markdown",
   "metadata": {},
   "source": [
    "Concatenar utilizando `join()`, para un listado de textos \"string\""
   ]
  },
  {
   "cell_type": "code",
   "execution_count": null,
   "metadata": {},
   "outputs": [],
   "source": [
    "human = [\"Homo\", \"sapiens\"]\n",
    "\" \".join(human)\n"
   ]
  },
  {
   "cell_type": "code",
   "execution_count": null,
   "metadata": {},
   "outputs": [],
   "source": [
    "# juntar con delimitador \n",
    "texto1 = [\"problema\", \"objetivo\", \"diseño experimental\", \"análisis exploratorio\", \"validación\"]\n",
    "\" --> \".join(texto1)\n"
   ]
  },
  {
   "cell_type": "markdown",
   "metadata": {},
   "source": [
    "# <center><h1 style=\"background-color:lightblue\"><font color='red'>EJERCICIO</font></h1></center>\n",
    "\n",
    "Calcular los porcentajes de contenido de A, T, C, G, CG, a partir de la secuencia \n",
    "`tacctggttg atcctgccag tagtcatatg cttgtctcaa agatgaagcc`. Asegúrese de quitar los espacios vacíos intermedios.\n"
   ]
  },
  {
   "cell_type": "code",
   "execution_count": null,
   "metadata": {},
   "outputs": [],
   "source": []
  },
  {
   "cell_type": "markdown",
   "metadata": {},
   "source": [
    "# Estructura de datos\n",
    "\n",
    "Al programar, debe **organizar sus datos** para que pueda acceder y manipularlo fácilmente. Python tiene estructuras de datos incorporadas. Dependiendo del tipo de objeto, los datos se organizan de diferente manera. Aquí se revisan: \n",
    "\n",
    "- `listas: list, []`\n",
    "- `diccionarios: dictionary {}`\n",
    "- `tupla: tuple, ()`\n",
    "- `conjuntos: set(), {}`"
   ]
  },
  {
   "cell_type": "markdown",
   "metadata": {},
   "source": [
    "## Listas\n",
    "\n",
    "* Una lista es una secuencia de objetos, separados por comas, entre corchetes `()`.\n",
    "* Una lista está ordenada mediante un índice numérico, que comienza en 0.\n",
    "* Puede contener cualquier objeto en Python, se pueden **mezclar objetos de diferente tipo**."
   ]
  },
  {
   "cell_type": "code",
   "execution_count": null,
   "metadata": {},
   "outputs": [],
   "source": [
    "lista_vacia = []\n",
    "lista_vacia"
   ]
  },
  {
   "cell_type": "code",
   "execution_count": null,
   "metadata": {},
   "outputs": [],
   "source": [
    "lista1 = [\"a\", \"b\", \"c\", \"d\", \"e\", \"f\", \"g\", \"h\", \"i\"]\n",
    "lista2 = [2, lista1, 13.5]\n",
    "lista3 = [3, lista2, \"dna\", \"proteina\"]\n",
    "print(lista1)\n",
    "print(lista2)\n",
    "print(lista3)"
   ]
  },
  {
   "cell_type": "markdown",
   "metadata": {},
   "source": [
    "* A los elementos de una lista se accede mediante su índice.\n",
    "\n",
    "<img src=\"https://media.geeksforgeeks.org/wp-content/uploads/List-Slicing.jpg\" width=800 height=250 />\n",
    "\n",
    "  * El índice comienza en 0\n",
    "  * El último índice es -1\n",
    "* Una lista (y cualquier otra secuencia) se puede _rebanar_ (slice) para obtener una sublista, utilizando `[M:N]` (`M` y `N` son los índices a utilizar.\n",
    "  * Devuelve una sublista desde la posición `M` (incluida) hasta `N` (no incluida).\n",
    "  * Si se omite `M`, el índice es `0`\n",
    "  * Si se omite `N`, el índice es el tamaño de la lista."
   ]
  },
  {
   "cell_type": "code",
   "execution_count": null,
   "metadata": {},
   "outputs": [],
   "source": [
    "lista1[0]"
   ]
  },
  {
   "cell_type": "code",
   "execution_count": null,
   "metadata": {},
   "outputs": [],
   "source": [
    "lista1[-1]"
   ]
  },
  {
   "cell_type": "code",
   "execution_count": null,
   "metadata": {},
   "outputs": [],
   "source": [
    "# Secuencia de la lista\n",
    "lista1[2:4]"
   ]
  },
  {
   "cell_type": "code",
   "execution_count": null,
   "metadata": {},
   "outputs": [],
   "source": [
    "# todos los elementos\n",
    "lista1[:]"
   ]
  },
  {
   "cell_type": "code",
   "execution_count": null,
   "metadata": {},
   "outputs": [],
   "source": [
    "# todos los elementos a la izquierda de\n",
    "lista1[:5]"
   ]
  },
  {
   "cell_type": "code",
   "execution_count": null,
   "metadata": {},
   "outputs": [],
   "source": [
    "# todos los elementos a la derecha de\n",
    "lista1[5:]"
   ]
  },
  {
   "cell_type": "code",
   "execution_count": null,
   "metadata": {},
   "outputs": [],
   "source": [
    "# Indice de objeto inexistente\n",
    "lista1[20]"
   ]
  },
  {
   "cell_type": "code",
   "execution_count": null,
   "metadata": {},
   "outputs": [],
   "source": [
    "# Se puede actualizar el contenido de una lista utilizando el índice\n",
    "lista1[0] = \"z\"\n",
    "lista1"
   ]
  },
  {
   "cell_type": "markdown",
   "metadata": {},
   "source": [
    "* Al igual que con las cadenas de caracteres, se puede comprobar si un elemento está en una lista con el operador `in`"
   ]
  },
  {
   "cell_type": "code",
   "execution_count": null,
   "metadata": {},
   "outputs": [],
   "source": [
    "\"a\" in lista1"
   ]
  },
  {
   "cell_type": "code",
   "execution_count": null,
   "metadata": {},
   "outputs": [],
   "source": [
    "\"b\" in lista1"
   ]
  },
  {
   "cell_type": "markdown",
   "metadata": {},
   "source": [
    "### Añadiendo, reemplazando\n",
    "\n",
    "* A una lista se pueden añadir elementos de varias maneras.\n",
    "  * Mediante el método `append`.\n",
    "  * Mediante el método `insert`.\n",
    "  * Mediante el método `extend`."
   ]
  },
  {
   "cell_type": "code",
   "execution_count": null,
   "metadata": {},
   "outputs": [],
   "source": [
    "lista = [\"Reino\", \"Filum\", \"Orden\", \"Familia\"]\n",
    "lista.append([\"Genero\", \"Especie\"])\n",
    "print(\"Después de append:\", lista)\n",
    "\n",
    "lista.insert(1, \"a\")\n",
    "print(\"Después de insert:\", lista)\n",
    "\n",
    "lista.extend([\"Supespecie\", \"Variedad\", \"Tipo\"])\n",
    "print(\"Después de extend:\", lista)"
   ]
  },
  {
   "cell_type": "markdown",
   "metadata": {},
   "source": [
    "* Se pueden cambiar elementos de una lista, a través del índice que se quiera cambiar"
   ]
  },
  {
   "cell_type": "code",
   "execution_count": null,
   "metadata": {},
   "outputs": [],
   "source": [
    "lista[4] = \"Suborden\"\n",
    "print(lista)"
   ]
  },
  {
   "cell_type": "markdown",
   "metadata": {},
   "source": [
    "### Eliminando datos\n",
    "* Del mismo modo, se puede eliminar elementos de varias maneras.\n",
    "  * Mediante el método `remove`.\n",
    "  * Mediante el método `pop`.\n",
    "  * Mediante la function `del`.\n",
    "  * Mediante la function `clear`."
   ]
  },
  {
   "cell_type": "code",
   "execution_count": null,
   "metadata": {},
   "outputs": [],
   "source": [
    "lista1 = [\"Hola\", \"GBI6\", \"estamos\", \"semana 2\", \"python\", \"listas\"] \n",
    "\n",
    "print('Lista original:', lista1)\n",
    "\n",
    "lista1.remove(\"estamos\")\n",
    "print('Elimino \"Hola\":', lista1)\n",
    "\n",
    "lista1.pop()\n",
    "print('Elimino el último elemento:', lista1)\n",
    "\n",
    "del lista1[2]\n",
    "print(\"Elimino el elemento del índice 3:\", lista1)\n",
    "\n",
    "lista1.clear()\n",
    "print(\"Elimino todo:\", lista1)"
   ]
  },
  {
   "cell_type": "markdown",
   "metadata": {},
   "source": [
    "### Ordenamiento en listas\n",
    "\n",
    "Se puede ordernar listado de números o textos, pero **un solo tipo de dato**.  Se utilizan las funciones: \n",
    "\n",
    "* Ordenamiento `sort()`\n",
    "\n",
    "* Ordenamiento inverso, descendente `reverse()`"
   ]
  },
  {
   "cell_type": "code",
   "execution_count": null,
   "metadata": {},
   "outputs": [],
   "source": [
    "primers = [5, 7, 4, 2, 9, 6, 2]\n",
    "print(\"Lista original:\", primers)\n",
    "primers.sort()\n",
    "print(\"Lista ordenada:\", primers)\n",
    "primers.reverse()\n",
    "print(\"Lista ordenada reversa:\", primers)\n"
   ]
  },
  {
   "cell_type": "markdown",
   "metadata": {},
   "source": [
    "### Operaciones sobre listas\n",
    "\n",
    "* Una lista se puede sumar y multiplicar.\n",
    "\n",
    "* Se puede contar el contenido de un listado"
   ]
  },
  {
   "cell_type": "code",
   "execution_count": null,
   "metadata": {},
   "outputs": [],
   "source": [
    "lista1 = [1, 2, 3]\n",
    "lista2 = [\"a\", \"b\", \"c\"]\n",
    "lista1 + lista2"
   ]
  },
  {
   "cell_type": "code",
   "execution_count": null,
   "metadata": {},
   "outputs": [],
   "source": [
    "lista3 = lista2 * 2 + lista1\n",
    "lista3"
   ]
  },
  {
   "cell_type": "code",
   "execution_count": null,
   "metadata": {},
   "outputs": [],
   "source": [
    "# conteo de elementos\n",
    "lista3.count('a')\n"
   ]
  },
  {
   "cell_type": "code",
   "execution_count": null,
   "metadata": {},
   "outputs": [],
   "source": [
    "# índice de texto\n",
    "lista3.index(\"b\")\n"
   ]
  },
  {
   "cell_type": "markdown",
   "metadata": {},
   "source": [
    "## Diccionarios\n",
    "\n",
    "* Conjunto de pares `key:value` o `clave:valor`, definidos entre llaves.\n",
    "  * `{}` Define un diccionario vacío.\n",
    "  * La función `dict()` pued recibir una secuencia de pares `key, value` para constuir un diccionario\n",
    "  * La función `dict()` también puede recibir argumentos para crear el diccionario.\n",
    "* Las claves son únicas en un diccionario.\n",
    "* Se puede acceder a (y modificar) los elementos a través de su `key`.\n",
    "* Pero no se puede acceder a las `key` a través de su valor.\n",
    "* Un diccionario puede tener como elemento cualquier objeto en Python (incluidos otros diccionarios)\n",
    "* Se puede comprobar si una llave está en un diccionario con el operador `in`.\n",
    "* En el diccionario **no se tiene un orden**, el `key` es el identificador importante.\n",
    "* El diccionario **no contiene índices** se accede a los valores por el `key`."
   ]
  },
  {
   "cell_type": "code",
   "execution_count": null,
   "metadata": {},
   "outputs": [],
   "source": [
    "diccionario_vacio = {}\n",
    "diccionario_vacio "
   ]
  },
  {
   "cell_type": "code",
   "execution_count": null,
   "metadata": {},
   "outputs": [],
   "source": [
    "dict1 = {\n",
    "    \"nombre\": \"Luis\",\n",
    "    \"apellido\": \"Sánchez\",\n",
    "    \"carrera\": \"Biotecnología\",\n",
    "    \"pref_topic\": \"NGS\"\n",
    "}"
   ]
  },
  {
   "cell_type": "code",
   "execution_count": null,
   "metadata": {},
   "outputs": [],
   "source": [
    "dict2 = dict([(\"nombre\", \"Luis\"), (\"apellido\", \"Sánchez\"), (\"carrera\", \"Biotecnología\"), (\"pref_topic\", \"NGS\")])"
   ]
  },
  {
   "cell_type": "code",
   "execution_count": null,
   "metadata": {},
   "outputs": [],
   "source": [
    "dict3 = dict(nombre=\"Luis\", apellido=\"Sánchez\", carrera=\"Biotecnología\", pref_topic = \"NGS\")"
   ]
  },
  {
   "cell_type": "code",
   "execution_count": null,
   "metadata": {},
   "outputs": [],
   "source": [
    "print(dict1)\n",
    "print(dict2)\n",
    "print(dict3)\n"
   ]
  },
  {
   "cell_type": "code",
   "execution_count": null,
   "metadata": {},
   "outputs": [],
   "source": [
    "# Diccionario vacío\n",
    "dict4= {}\n",
    "dict4[\"genero\"] = \"Zea\""
   ]
  },
  {
   "cell_type": "code",
   "execution_count": null,
   "metadata": {},
   "outputs": [],
   "source": [
    "dict4[\"especie\"]"
   ]
  },
  {
   "cell_type": "code",
   "execution_count": null,
   "metadata": {},
   "outputs": [],
   "source": [
    "dict4[\"especie\"] = \"mays\""
   ]
  },
  {
   "cell_type": "code",
   "execution_count": null,
   "metadata": {},
   "outputs": [],
   "source": [
    "tamano_genoma = {\"Homo sapiens\": 3200.0, \n",
    "                 \"Escherichia coli\": 17.2, # tamaño real 4.6 Mbp\n",
    "                 \"Arabidopsis thaliana\": 157.0, \n",
    "                 \"Drosophila melanogaster\": 80  # el tamaño real es de 130 Mbp\n",
    "                }\n",
    "tamano_genoma[\"Drosophila melanogaster\"] += 50  # actualizar valor / información con operación\n",
    "tamano_genoma[\"Escherichia coli\"] = 4.6  # actualizar valor por cambio\n",
    "\n",
    "tamano_genoma"
   ]
  },
  {
   "cell_type": "code",
   "execution_count": null,
   "metadata": {},
   "outputs": [],
   "source": [
    "\"Homo sapiens\" in tamano_genoma"
   ]
  },
  {
   "cell_type": "code",
   "execution_count": null,
   "metadata": {},
   "outputs": [],
   "source": [
    "\"Zea mays\" in tamano_genoma"
   ]
  },
  {
   "cell_type": "code",
   "execution_count": null,
   "metadata": {},
   "outputs": [],
   "source": [
    "# Complejo\n",
    "\n",
    "d = {\n",
    "    \"personal\": {\n",
    "        \"nombre\": \"Ashley\",\n",
    "        \"apellido\": \"Genomeson\",\n",
    "    },\n",
    "    \"academico\": {\n",
    "        \"carrera\": \"Biotecnología\",\n",
    "        \"semestre\": 6\n",
    "    },\n",
    "}\n",
    "d"
   ]
  },
  {
   "cell_type": "code",
   "execution_count": null,
   "metadata": {},
   "outputs": [],
   "source": [
    "d[\"personal\"]"
   ]
  },
  {
   "cell_type": "code",
   "execution_count": null,
   "metadata": {},
   "outputs": [],
   "source": [
    "print(\"Nombre:\", d[\"personal\"][\"nombre\"], \"\\nApellido:\", d[\"personal\"][\"apellido\"],\n",
    "      \"\\nCarrera:\", d[\"academico\"][\"carrera\"], \"\\nSemestre:\", d[\"academico\"][\"semestre\"]\n",
    "     )"
   ]
  },
  {
   "cell_type": "code",
   "execution_count": null,
   "metadata": {},
   "outputs": [],
   "source": [
    "# Más complejo\n",
    "\n",
    "d2 = {\n",
    "    \"alumnos\": [\n",
    "        {\"nombre\": \"Federico\", \"apellido\": \"Palma\"},\n",
    "        {\"nombre\": \"Sebastian\", \"apellido\": \"Ruiz\"},\n",
    "    ],\n",
    "    \"carrera\": [\n",
    "        {\"major\": \"Biotecnología\", \"minor\":\"Bioinformática\"},\n",
    "        {\"major\": \"Biotecnología\", \"minor\":\"Microbiología\"}\n",
    "    ],\n",
    "    \"graduación\": \"2022I, 2021II\",\n",
    "}\n",
    "d2"
   ]
  },
  {
   "cell_type": "markdown",
   "metadata": {},
   "source": [
    "### Otros tipos de manipulación de información\n",
    "\n",
    "Se utilizan las funciones: \n",
    "\n",
    "* Para copiar `.copy()` \n",
    "* Para limpiar `.clear()` \n",
    "* Para obtener `.get()`, para obtener dato con el `key`, sino se devuelve un valor predefinido. \n",
    "* Para obtener todas las claves `.keys()`\n",
    "* Para obtener todos los valores `.values()`\n",
    "* Para obtener actualñizar con nuevas claves:valores `.update()`"
   ]
  },
  {
   "cell_type": "code",
   "execution_count": null,
   "metadata": {},
   "outputs": [],
   "source": [
    "GS = tamano_genoma.copy()\n",
    "GS"
   ]
  },
  {
   "cell_type": "code",
   "execution_count": null,
   "metadata": {},
   "outputs": [],
   "source": [
    "tamano_genoma.clear()\n",
    "tamano_genoma"
   ]
  },
  {
   "cell_type": "code",
   "execution_count": null,
   "metadata": {},
   "outputs": [],
   "source": [
    "GS.get(\"Arabidopsis thaliana\", \"NA\")\n"
   ]
  },
  {
   "cell_type": "code",
   "execution_count": null,
   "metadata": {},
   "outputs": [],
   "source": [
    "GS.get(\"Mus musculus\", \"NA\")"
   ]
  },
  {
   "cell_type": "code",
   "execution_count": null,
   "metadata": {},
   "outputs": [],
   "source": [
    "GS.keys()"
   ]
  },
  {
   "cell_type": "code",
   "execution_count": null,
   "metadata": {},
   "outputs": [],
   "source": [
    "GS.values()"
   ]
  },
  {
   "cell_type": "code",
   "execution_count": null,
   "metadata": {},
   "outputs": [],
   "source": [
    "D1 = {\"estud1\": 7.5,\"estud2\": 9.5,\"estud3\": 6.3}\n",
    "D2 = {\"estud1\": 6.2,\"estud4\": 6.4,\"estud5\": 7.5}\n",
    "D1.update(D2)\n",
    "D1"
   ]
  },
  {
   "cell_type": "markdown",
   "metadata": {},
   "source": [
    "* Otros métodos interesantes son:\n",
    "  * `.pop(item)` Extrae el elemento con llave `item` del diccionario."
   ]
  },
  {
   "cell_type": "markdown",
   "metadata": {},
   "source": [
    "## Tuplas (tuple)\n",
    "\n",
    "* Una tupla es una secuencia de objetos, separados por comas, entre paréntesis.\n",
    "* Las tuplas, como las listas, están ordenadas.\n",
    "* Una tupla es una secuencia **inmutable**, una vez creada no se puede modificar.\n",
    "  * El resto de operaciones sobre secuencias si se pueden aplicar.\n",
    "  * Una tupla NO tiene métodos (`append`, `extend`, etc.)"
   ]
  },
  {
   "cell_type": "code",
   "execution_count": null,
   "metadata": {},
   "outputs": [],
   "source": [
    "t = (1, 2, 3, \"cuatro\")\n",
    "t[0]"
   ]
  },
  {
   "cell_type": "code",
   "execution_count": null,
   "metadata": {},
   "outputs": [],
   "source": [
    "t[0] = \"uno\""
   ]
  },
  {
   "cell_type": "code",
   "execution_count": null,
   "metadata": {},
   "outputs": [],
   "source": [
    "t + t"
   ]
  },
  {
   "cell_type": "code",
   "execution_count": null,
   "metadata": {},
   "outputs": [],
   "source": [
    "t * 3"
   ]
  },
  {
   "cell_type": "markdown",
   "metadata": {},
   "source": [
    "* Una tupla vacía se define de la siguiente forma"
   ]
  },
  {
   "cell_type": "code",
   "execution_count": null,
   "metadata": {},
   "outputs": [],
   "source": [
    "t2 = ()\n",
    "t2"
   ]
  },
  {
   "cell_type": "markdown",
   "metadata": {},
   "source": [
    "* Pero una tupla de un elemento se define de la siguiente forma."
   ]
  },
  {
   "cell_type": "code",
   "execution_count": null,
   "metadata": {},
   "outputs": [],
   "source": [
    "t = (1)  # Esto NO es una tupla\n",
    "t"
   ]
  },
  {
   "cell_type": "code",
   "execution_count": null,
   "metadata": {},
   "outputs": [],
   "source": [
    "t = (1, )  # Una coma siempre al final\n",
    "t"
   ]
  },
  {
   "cell_type": "markdown",
   "metadata": {},
   "source": [
    "### Operaciones en tuplas (tuple)\n",
    "\n",
    "* Para contar `.count()`\n",
    "* Para encontrar el índice del primer elemento `.index()`"
   ]
  },
  {
   "cell_type": "code",
   "execution_count": null,
   "metadata": {},
   "outputs": [],
   "source": [
    "tupla1 = (\"A\", \"T\", \"C\", \"G\", \"AA\")\n",
    "tupla1.count(\"A\")"
   ]
  },
  {
   "cell_type": "code",
   "execution_count": null,
   "metadata": {},
   "outputs": [],
   "source": [
    "tupla1.index(\"AA\")"
   ]
  },
  {
   "cell_type": "code",
   "execution_count": null,
   "metadata": {},
   "outputs": [],
   "source": [
    "# Se puede utilizar una tupla como \"key\" de un diccionario\n",
    "\n",
    "dict5 = {(\"Carlos\", \"Estrada\"): \"Ecosistemas\"}\n",
    "dict5"
   ]
  },
  {
   "cell_type": "markdown",
   "metadata": {},
   "source": [
    "## Secuencias\n",
    "\n",
    "* Las listas, tuplas y *cadenas de caracteres* son secuencias.\n",
    "* Muchas propiedades en común.\n",
    "  * Indexado, slicing, etc.\n",
    "* Operaciones en secuencias\n",
    "\n",
    "| Operation | Result |\n",
    "|-----------------------|-----------------------------------------------|\n",
    "|`x in s`               |True if an item of s is equal to x, else False |\n",
    "|`x not in s`           |False if an item of s is equal to x, else True |\n",
    "|`s + t`                |the concatenation of s and t |\n",
    "|`s * n or n * s`       |equivalent to adding s to itself n times \t|\n",
    "|`s[i]`                 |ith item of s, origin 0 \t|\n",
    "|`s[i:j]`               |slice of s from i to j \t|\n",
    "|`s[i:j:k]`             |slice of s from i to j with step k \t|\n",
    "|`len(s)`               |length of s \t |\n",
    "|`min(s)`               |smallest item of s \t |\n",
    "|`max(s)`               |largest item of s \t |\n",
    "|`s.index(x[, i[, j]])` |index of the first occurrence of x in s (at or after index i and before index j) |\n",
    "|`s.count(x)`           |total number of occurrences of x in s \t |"
   ]
  },
  {
   "cell_type": "code",
   "execution_count": null,
   "metadata": {},
   "outputs": [],
   "source": [
    "cadena = \"Hola a todos que tal estáis\"\n",
    "cadena[0]"
   ]
  },
  {
   "cell_type": "code",
   "execution_count": null,
   "metadata": {},
   "outputs": [],
   "source": [
    "cadena[7:12]"
   ]
  },
  {
   "cell_type": "code",
   "execution_count": null,
   "metadata": {},
   "outputs": [],
   "source": [
    "len(cadena)"
   ]
  },
  {
   "cell_type": "markdown",
   "metadata": {},
   "source": [
    "## Conjuntos (set)\n",
    "\n",
    "* Conjunto de valores **sin orden** y **sin duplicados**.\n",
    "* Se definen entre llaves, separando los elementos por comas. \n",
    "* Se puede realizar operaciones de conjuntos\n",
    "    * Intersección `&` o `.intersection()` \n",
    "    * Unión `|` o `.union()`\n",
    "    * Diferencia simétrica `^` o `.symmetric.difference()` \n",
    "    * Diferencia `.difference()`\n",
    "    * Subconjunto `.issubset()`\n",
    "    * El elemento es parte del conjunto `in`\n",
    "    \n",
    " <img src=\"https://conjuntosblogblog.files.wordpress.com/2016/07/operaciones-entre-conjuntos-3-728.jpg?w=440&h=330\" width=800 height=550 />"
   ]
  },
  {
   "cell_type": "code",
   "execution_count": null,
   "metadata": {},
   "outputs": [],
   "source": [
    "a = {-1, 0, 1, 2, 3, 4, 5}\n",
    "temp_list =  [4, 7, 6, 5, 2, 3, 1, 8]\n",
    "b = set(temp_list)"
   ]
  },
  {
   "cell_type": "code",
   "execution_count": null,
   "metadata": {},
   "outputs": [],
   "source": [
    "print(a)\n",
    "print(b)"
   ]
  },
  {
   "cell_type": "code",
   "execution_count": null,
   "metadata": {},
   "outputs": [],
   "source": [
    "# Intersección\n",
    "a & b"
   ]
  },
  {
   "cell_type": "code",
   "execution_count": null,
   "metadata": {},
   "outputs": [],
   "source": [
    "# Unión \n",
    "a | b"
   ]
  },
  {
   "cell_type": "code",
   "execution_count": null,
   "metadata": {},
   "outputs": [],
   "source": [
    "# Diferencia simétrica\n",
    "a ^ b"
   ]
  },
  {
   "cell_type": "code",
   "execution_count": null,
   "metadata": {},
   "outputs": [],
   "source": [
    "b ^ a"
   ]
  },
  {
   "cell_type": "code",
   "execution_count": null,
   "metadata": {},
   "outputs": [],
   "source": [
    "# Diferencia\n",
    "a.difference(b)"
   ]
  },
  {
   "cell_type": "code",
   "execution_count": null,
   "metadata": {},
   "outputs": [],
   "source": [
    "b.difference(a)"
   ]
  },
  {
   "cell_type": "code",
   "execution_count": null,
   "metadata": {},
   "outputs": [],
   "source": [
    "# Subconjunto\n",
    "{1}.issubset(a)"
   ]
  },
  {
   "cell_type": "code",
   "execution_count": null,
   "metadata": {},
   "outputs": [],
   "source": [
    "a.issubset(b)"
   ]
  },
  {
   "cell_type": "code",
   "execution_count": null,
   "metadata": {},
   "outputs": [],
   "source": [
    "# Pertenencia de elemento\n",
    "1 in a"
   ]
  },
  {
   "cell_type": "markdown",
   "metadata": {},
   "source": [
    "## Tipos de datos\n",
    "\n",
    "Para revisar el tipo de dato se utiliza la función `type()`"
   ]
  },
  {
   "cell_type": "code",
   "execution_count": null,
   "metadata": {},
   "outputs": [],
   "source": [
    "type(lista1)"
   ]
  },
  {
   "cell_type": "code",
   "execution_count": null,
   "metadata": {},
   "outputs": [],
   "source": [
    "type(tamano_genoma)"
   ]
  },
  {
   "cell_type": "code",
   "execution_count": null,
   "metadata": {},
   "outputs": [],
   "source": [
    "type((1,2,4))"
   ]
  },
  {
   "cell_type": "code",
   "execution_count": null,
   "metadata": {},
   "outputs": [],
   "source": [
    "type({\"a\",\"b\",\"c\"})"
   ]
  },
  {
   "cell_type": "code",
   "execution_count": null,
   "metadata": {},
   "outputs": [],
   "source": [
    "type(\"Genoma\")"
   ]
  },
  {
   "cell_type": "code",
   "execution_count": null,
   "metadata": {},
   "outputs": [],
   "source": [
    "type({\"nombre\": \"Luis\"})"
   ]
  },
  {
   "cell_type": "markdown",
   "metadata": {},
   "source": [
    "## Tipo booleano\n",
    "\n",
    "* En Python, casi cualquier cosa es verdadero, excepto:\n",
    "  * `[]` -> Lista vacía\n",
    "  * `{}` -> Diccionario vacío\n",
    "  * `\"\"` -> Cadena vacía\n",
    "  * `0`, `0.0`\n",
    "  * `False` \n",
    "  * `None`\n",
    "* Operadores: `not`, `and` y `or`."
   ]
  },
  {
   "cell_type": "code",
   "execution_count": null,
   "metadata": {},
   "outputs": [],
   "source": [
    "True and False"
   ]
  },
  {
   "cell_type": "code",
   "execution_count": null,
   "metadata": {},
   "outputs": [],
   "source": [
    "False or True"
   ]
  },
  {
   "cell_type": "code",
   "execution_count": null,
   "metadata": {},
   "outputs": [],
   "source": [
    "True and not False"
   ]
  },
  {
   "cell_type": "code",
   "execution_count": null,
   "metadata": {},
   "outputs": [],
   "source": [
    "False and False"
   ]
  },
  {
   "cell_type": "markdown",
   "metadata": {},
   "source": [
    "# <center><h1 style=\"background-color:lightblue\"><font color='red'>EJERCICIO</font></h1></center>\n",
    "\n",
    "* Dada la siguiente lista, eliminar las cadenas de caracteres presentes en ella y ordenarla."
   ]
  },
  {
   "cell_type": "code",
   "execution_count": null,
   "metadata": {},
   "outputs": [],
   "source": [
    "lista = [9, 7, 14, 12, 10, 9, \"Hola\", 0, 23, 12, \"Alvaro\", 12]\n",
    "\n",
    "# Escribe aquí tu código\n",
    "\n",
    "\n",
    "\n"
   ]
  },
  {
   "cell_type": "markdown",
   "metadata": {},
   "source": [
    "* Dado el siguiente diccionario\n",
    "  * Añadir el elemento \"carrera\" con el valor \"Inmmunología\".\n",
    "  * Añadir a la lista de tesistas el nombre \"Esteban\".\n",
    "  * Añadir el elemento \"organismo\" con el valor de los organismos modelo en forma de lista `[\"ratón\", ]`"
   ]
  },
  {
   "cell_type": "code",
   "execution_count": null,
   "metadata": {},
   "outputs": [],
   "source": [
    "dict1 = {\n",
    "    \"tesistas\": [\"Juan\", \"Pedro\", \"Francisco\", ],\n",
    "    \"tema\": \"Interactome, Genómica, PeptidosAntimicrobianos\",\n",
    "}"
   ]
  },
  {
   "cell_type": "markdown",
   "metadata": {},
   "source": [
    "* Dados los siguientes dos diccionarios, actualizar con los datos del segundo diccionario el primero."
   ]
  },
  {
   "cell_type": "code",
   "execution_count": null,
   "metadata": {},
   "outputs": [],
   "source": [
    "valores_por_defecto = {\n",
    "    \"nombre\": None,\n",
    "    \"altura\": 1000,\n",
    "    \"anchura\": 1000,\n",
    "    \"localización\": \"Quito\",\n",
    "    \"coordenadas\": (78.4722475, -3.8199358),\n",
    "}\n",
    "\n",
    "valores_actualizar = {\n",
    "    \"altura\": 100,\n",
    "    \"anchura\": 200,\n",
    "    \"nombre\": \"Oso\"\n",
    "}"
   ]
  }
 ],
 "metadata": {
  "kernelspec": {
   "display_name": "Python 3",
   "language": "python",
   "name": "python3"
  },
  "language_info": {
   "codemirror_mode": {
    "name": "ipython",
    "version": 3
   },
   "file_extension": ".py",
   "mimetype": "text/x-python",
   "name": "python",
   "nbconvert_exporter": "python",
   "pygments_lexer": "ipython3",
   "version": "3.8.8"
  },
  "latex_envs": {
   "LaTeX_envs_menu_present": true,
   "autoclose": false,
   "autocomplete": true,
   "bibliofile": "biblio.bib",
   "cite_by": "apalike",
   "current_citInitial": 1,
   "eqLabelWithNumbers": true,
   "eqNumInitial": 1,
   "hotkeys": {
    "equation": "Ctrl-E",
    "itemize": "Ctrl-I"
   },
   "labels_anchors": false,
   "latex_user_defs": false,
   "report_style_numbering": false,
   "user_envs_cfg": false
  },
  "toc": {
   "base_numbering": 1,
   "nav_menu": {},
   "number_sections": true,
   "sideBar": true,
   "skip_h1_title": false,
   "title_cell": "Table of Contents",
   "title_sidebar": "Contents",
   "toc_cell": false,
   "toc_position": {
    "height": "calc(100% - 180px)",
    "left": "10px",
    "top": "150px",
    "width": "294.76px"
   },
   "toc_section_display": true,
   "toc_window_display": true
  },
  "varInspector": {
   "cols": {
    "lenName": 16,
    "lenType": 16,
    "lenVar": 40
   },
   "kernels_config": {
    "python": {
     "delete_cmd_postfix": "",
     "delete_cmd_prefix": "del ",
     "library": "var_list.py",
     "varRefreshCmd": "print(var_dic_list())"
    },
    "r": {
     "delete_cmd_postfix": ") ",
     "delete_cmd_prefix": "rm(",
     "library": "var_list.r",
     "varRefreshCmd": "cat(var_dic_list()) "
    }
   },
   "position": {
    "height": "609.4px",
    "left": "862.8px",
    "right": "20px",
    "top": "111px",
    "width": "318px"
   },
   "types_to_exclude": [
    "module",
    "function",
    "builtin_function_or_method",
    "instance",
    "_Feature"
   ],
   "window_display": false
  }
 },
 "nbformat": 4,
 "nbformat_minor": 2
}
